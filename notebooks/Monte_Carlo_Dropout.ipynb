{
 "cells": [
  {
   "cell_type": "markdown",
   "id": "d68210ac",
   "metadata": {},
   "source": [
    "# Monte Carlo Droupout Model"
   ]
  },
  {
   "cell_type": "code",
   "execution_count": 1,
   "id": "6addf567",
   "metadata": {},
   "outputs": [],
   "source": [
    "# Importing libraries\n",
    "import pandas as pd\n",
    "import numpy as np\n",
    "import tensorflow as tf\n",
    "from keras.preprocessing.sequence import pad_sequences\n",
    "from tensorflow.keras.layers import Dense, Dropout, Flatten\n",
    "from tensorflow.keras import Sequential\n",
    "from tensorflow.keras.losses import BinaryCrossentropy\n",
    "from keras.callbacks import EarlyStopping\n",
    "import matplotlib.pyplot as plt\n",
    "import seaborn as sns"
   ]
  },
  {
   "cell_type": "markdown",
   "id": "14b09804",
   "metadata": {},
   "source": [
    "### Load data"
   ]
  },
  {
   "cell_type": "code",
   "execution_count": 2,
   "id": "2aca6d2c",
   "metadata": {},
   "outputs": [
    {
     "name": "stdout",
     "output_type": "stream",
     "text": [
      "Reading data\n",
      "Splitting events\n"
     ]
    }
   ],
   "source": [
    "print('Reading data')\n",
    "trn = pd.read_hdf('train.h5')\n",
    "val = pd.read_hdf('validation.h5')\n",
    "tst = pd.read_hdf('test.h5')\n",
    "\n",
    "val = val.sample(frac=1).reset_index(drop=True)\n",
    "tst = tst.sample(frac=1).reset_index(drop=True)\n",
    "\n",
    "max_sequence_length = 8000\n",
    "\n",
    "# sequences to list of integers\n",
    "print('Splitting events')\n",
    "trn['Events_removed'] = trn['Events_removed'].apply(lambda x: [int(e) for e in x.split(',')[:max_sequence_length]])\n",
    "val['Events_removed'] = val['Events_removed'].apply(lambda x: [int(e) for e in x.split(',')[:max_sequence_length]])\n",
    "tst['Events_removed'] = tst['Events_removed'].apply(lambda x: [int(e) for e in x.split(',')[:max_sequence_length]])\n",
    "\n",
    "# Padding sequences to ensure uniform length\n",
    "X = pad_sequences(trn['Events_removed'], maxlen=max_sequence_length)\n",
    "V = pad_sequences(val['Events_removed'], maxlen=max_sequence_length)\n",
    "T = pad_sequences(tst['Events_removed'], maxlen=max_sequence_length)\n"
   ]
  },
  {
   "cell_type": "code",
   "execution_count": 3,
   "id": "a09932b8",
   "metadata": {},
   "outputs": [],
   "source": [
    "X_train, y_train= X, trn['Onsite']\n",
    "X_val, y_val= V, val['Onsite']\n",
    "X_test, y_test = T, tst['Onsite']"
   ]
  },
  {
   "cell_type": "markdown",
   "id": "a112800c",
   "metadata": {},
   "source": [
    "### Define model architecture, train, test, and predict functions "
   ]
  },
  {
   "cell_type": "code",
   "execution_count": 4,
   "id": "52fc87ee",
   "metadata": {},
   "outputs": [],
   "source": [
    "def get_model():\n",
    "    \"\"\"\n",
    "    Define and compile the Monte Carlo Dropout model.\n",
    "    \n",
    "    The model architecture consists of several Dense layers with ReLU activation along with dropouts,\n",
    "    followed by a final Dense layer with sigmoid activation for binary classification.\n",
    "    \n",
    "    Returns:\n",
    "        tf.keras.Sequential: Compiled Monte Carlo Dropout model.\n",
    "    \"\"\" \n",
    "    \n",
    "    model = Sequential([\n",
    "    Flatten(input_shape=(8000,1)),\n",
    "    Dense(8192, activation='relu'),\n",
    "    Dropout(.1),\n",
    "    Dense(4096, activation='relu'),\n",
    "        Dropout(.1),\n",
    "    Dense(2048, activation='relu'),\n",
    "        Dropout(.1),\n",
    "    Dense(1024, activation='relu'),\n",
    "        Dropout(.1),\n",
    "    Dense(512, activation='relu'),\n",
    "        Dropout(.1),\n",
    "    Dense(256, activation='relu'),\n",
    "        Dropout(.1),\n",
    "    Dense(128, activation='relu'),\n",
    "        Dropout(.1),\n",
    "    Dense(64, activation='relu'),\n",
    "        Dropout(.1),\n",
    "    Dense(32, activation='relu'),\n",
    "        Dropout(.1),\n",
    "        Dense(1, activation='sigmoid')\n",
    "    ])\n",
    "    optim = tf.keras.optimizers.Adam(1e-3)\n",
    "    model.compile(optimizer=optim, metrics=['accuracy'], loss=BinaryCrossentropy())\n",
    "    return model\n"
   ]
  },
  {
   "cell_type": "code",
   "execution_count": 5,
   "id": "558389eb",
   "metadata": {},
   "outputs": [],
   "source": [
    "def train(x, y, model, x_val, y_val, epochs=1000):\n",
    "    \"\"\"\n",
    "    Train the Monte Carlo Dropout model with early stopping.\n",
    "    \n",
    "    Parameters:\n",
    "        x (numpy.ndarray): Input features for training.\n",
    "        y (numpy.ndarray): Target labels for training.\n",
    "        model (tf.keras.Sequential): Compiled Monte Carlo Dropout model.\n",
    "        x_val (numpy.ndarray): Input features for validation.\n",
    "        y_val (numpy.ndarray): Target labels for validation.\n",
    "        epochs (int): Number of epochs for training.\n",
    "        \n",
    "    Returns:\n",
    "        tf.keras.Sequential: Trained Monte Carlo Dropout model.\n",
    "    \"\"\"\n",
    "    \n",
    "    es = EarlyStopping(monitor='val_loss', min_delta=0.001, mode='min', patience=5, verbose=1, restore_best_weights=True)\n",
    "    model.fit(x, y, epochs=epochs, validation_data=(x_val, y_val), callbacks=[es])\n",
    "    return model"
   ]
  },
  {
   "cell_type": "code",
   "execution_count": 6,
   "id": "9c993ae6",
   "metadata": {},
   "outputs": [],
   "source": [
    "def test(x_test, y_test, model):\n",
    "    \"\"\"\n",
    "    Test the Monte Carlo Dropout model and calculate accuracy and uncertainty.\n",
    "    \n",
    "    Parameters:\n",
    "        x_test (numpy.ndarray): Input features for testing.\n",
    "        y_test (numpy.ndarray): Target labels for testing.\n",
    "        model (tf.keras.Sequential): Trained Monte Carlo Dropout model.\n",
    "        \n",
    "    Returns:\n",
    "        list: List of predicted probabilities.\n",
    "        list: List of standard deviations.\n",
    "    \"\"\"\n",
    "    \n",
    "    probabilities = []\n",
    "    sd_list = []\n",
    "    correct_predictions = 0\n",
    "    uncertain_predictions = 0\n",
    "\n",
    "    for i in range(len(x_test)):\n",
    "        x_sample = x_test[i:i+1]\n",
    "        y_true = y_test.iloc[i]\n",
    "\n",
    "        probs, sd = predict(model, x_sample)\n",
    "        probabilities.append(probs[0][0])\n",
    "        sd_list.append(sd)\n",
    "        \n",
    "        # Classify predictions\n",
    "        predicted_class = 1 if probs[0][0] > 0.6 else 0 if probs[0][0] < 0.5 else 0.5\n",
    "\n",
    "        # Count uncertain predictions\n",
    "        if predicted_class == 0.5:\n",
    "            uncertain_predictions += 1\n",
    "            continue\n",
    "\n",
    "        # Count correct predictions\n",
    "        if predicted_class == y_true:\n",
    "            correct_predictions += 1\n",
    "        \n",
    "    # Calculate accuracy\n",
    "    accuracy = correct_predictions / (len(x_test) - uncertain_predictions)\n",
    "    print('Probabiity Range Accuracy:', accuracy)\n",
    "    \n",
    "    # Calculate uncertainty\n",
    "    uncertainity = uncertain_predictions / len(x_test)\n",
    "    print('Probabiity Range Uncertainity: ', uncertainity)\n",
    "    \n",
    "    return probabilities, sd_list\n"
   ]
  },
  {
   "cell_type": "code",
   "execution_count": 7,
   "id": "c6f5c909",
   "metadata": {},
   "outputs": [],
   "source": [
    "def predict(model, x, samples=20):\n",
    "    \"\"\"\n",
    "    Make predictions and calculate standard deviation.\n",
    "    \n",
    "    Parameters:\n",
    "        model (tf.keras.Sequential): Trained Monte Carlo Dropout model.\n",
    "        x (numpy.ndarray): Input features for prediction.\n",
    "        samples (int): Number of times each data point is predicted to estimate uncertainty.\n",
    "        \n",
    "    Returns:\n",
    "        numpy.ndarray: Predicted probabilities.\n",
    "        float: Standard deviation.\n",
    "    \"\"\"\n",
    "    \n",
    "    yhat_arr = []\n",
    "\n",
    "    for t in range(samples):\n",
    "        yhat = model(x, training=True)\n",
    "        yhat_arr.append(yhat)\n",
    "\n",
    "    yhat_arr = np.array(yhat_arr)\n",
    "    probs = np.mean(yhat_arr, axis=0)\n",
    "    sd = np.std(yhat_arr)\n",
    "    return probs, sd"
   ]
  },
  {
   "cell_type": "markdown",
   "id": "f1fc200c",
   "metadata": {},
   "source": [
    "### Train the model"
   ]
  },
  {
   "cell_type": "code",
   "execution_count": 8,
   "id": "c3c994aa",
   "metadata": {},
   "outputs": [
    {
     "name": "stdout",
     "output_type": "stream",
     "text": [
      "Epoch 1/1000\n",
      "\u001b[1m89/89\u001b[0m \u001b[32m━━━━━━━━━━━━━━━━━━━━\u001b[0m\u001b[37m\u001b[0m \u001b[1m117s\u001b[0m 1s/step - accuracy: 0.4986 - loss: 728.6050 - val_accuracy: 0.5696 - val_loss: 0.6870\n",
      "Epoch 2/1000\n",
      "\u001b[1m89/89\u001b[0m \u001b[32m━━━━━━━━━━━━━━━━━━━━\u001b[0m\u001b[37m\u001b[0m \u001b[1m112s\u001b[0m 1s/step - accuracy: 0.4951 - loss: 0.9395 - val_accuracy: 0.5236 - val_loss: 0.7003\n",
      "Epoch 3/1000\n",
      "\u001b[1m89/89\u001b[0m \u001b[32m━━━━━━━━━━━━━━━━━━━━\u001b[0m\u001b[37m\u001b[0m \u001b[1m112s\u001b[0m 1s/step - accuracy: 0.5241 - loss: 0.8292 - val_accuracy: 0.5675 - val_loss: 0.6897\n",
      "Epoch 4/1000\n",
      "\u001b[1m89/89\u001b[0m \u001b[32m━━━━━━━━━━━━━━━━━━━━\u001b[0m\u001b[37m\u001b[0m \u001b[1m113s\u001b[0m 1s/step - accuracy: 0.5212 - loss: 0.7240 - val_accuracy: 0.5717 - val_loss: 0.6814\n",
      "Epoch 5/1000\n",
      "\u001b[1m89/89\u001b[0m \u001b[32m━━━━━━━━━━━━━━━━━━━━\u001b[0m\u001b[37m\u001b[0m \u001b[1m112s\u001b[0m 1s/step - accuracy: 0.5052 - loss: 0.7489 - val_accuracy: 0.5707 - val_loss: 0.6881\n",
      "Epoch 6/1000\n",
      "\u001b[1m89/89\u001b[0m \u001b[32m━━━━━━━━━━━━━━━━━━━━\u001b[0m\u001b[37m\u001b[0m \u001b[1m113s\u001b[0m 1s/step - accuracy: 0.5298 - loss: 0.7396 - val_accuracy: 0.5707 - val_loss: 0.6926\n",
      "Epoch 7/1000\n",
      "\u001b[1m89/89\u001b[0m \u001b[32m━━━━━━━━━━━━━━━━━━━━\u001b[0m\u001b[37m\u001b[0m \u001b[1m114s\u001b[0m 1s/step - accuracy: 0.5658 - loss: 0.7115 - val_accuracy: 0.4293 - val_loss: 0.8755\n",
      "Epoch 8/1000\n",
      "\u001b[1m89/89\u001b[0m \u001b[32m━━━━━━━━━━━━━━━━━━━━\u001b[0m\u001b[37m\u001b[0m \u001b[1m116s\u001b[0m 1s/step - accuracy: 0.5490 - loss: 0.7270 - val_accuracy: 0.5707 - val_loss: 0.6857\n",
      "Epoch 9/1000\n",
      "\u001b[1m89/89\u001b[0m \u001b[32m━━━━━━━━━━━━━━━━━━━━\u001b[0m\u001b[37m\u001b[0m \u001b[1m112s\u001b[0m 1s/step - accuracy: 0.5571 - loss: 0.6915 - val_accuracy: 0.5707 - val_loss: 0.6851\n",
      "Epoch 9: early stopping\n",
      "Restoring model weights from the end of the best epoch: 4.\n"
     ]
    }
   ],
   "source": [
    "model = get_model()\n",
    "\n",
    "model = train(x=X_train, y=y_train, model=model, x_val=X_val, y_val=y_val)"
   ]
  },
  {
   "cell_type": "code",
   "execution_count": 9,
   "id": "cad150ab",
   "metadata": {},
   "outputs": [
    {
     "data": {
      "text/html": [
       "<pre style=\"white-space:pre;overflow-x:auto;line-height:normal;font-family:Menlo,'DejaVu Sans Mono',consolas,'Courier New',monospace\"><span style=\"font-weight: bold\">Model: \"sequential\"</span>\n",
       "</pre>\n"
      ],
      "text/plain": [
       "\u001b[1mModel: \"sequential\"\u001b[0m\n"
      ]
     },
     "metadata": {},
     "output_type": "display_data"
    },
    {
     "data": {
      "text/html": [
       "<pre style=\"white-space:pre;overflow-x:auto;line-height:normal;font-family:Menlo,'DejaVu Sans Mono',consolas,'Courier New',monospace\">┏━━━━━━━━━━━━━━━━━━━━━━━━━━━━━━━━━━━━━━┳━━━━━━━━━━━━━━━━━━━━━━━━━━━━━┳━━━━━━━━━━━━━━━━━┓\n",
       "┃<span style=\"font-weight: bold\"> Layer (type)                         </span>┃<span style=\"font-weight: bold\"> Output Shape                </span>┃<span style=\"font-weight: bold\">         Param # </span>┃\n",
       "┡━━━━━━━━━━━━━━━━━━━━━━━━━━━━━━━━━━━━━━╇━━━━━━━━━━━━━━━━━━━━━━━━━━━━━╇━━━━━━━━━━━━━━━━━┩\n",
       "│ flatten (<span style=\"color: #0087ff; text-decoration-color: #0087ff\">Flatten</span>)                    │ (<span style=\"color: #00d7ff; text-decoration-color: #00d7ff\">None</span>, <span style=\"color: #00af00; text-decoration-color: #00af00\">8000</span>)                │               <span style=\"color: #00af00; text-decoration-color: #00af00\">0</span> │\n",
       "├──────────────────────────────────────┼─────────────────────────────┼─────────────────┤\n",
       "│ dense (<span style=\"color: #0087ff; text-decoration-color: #0087ff\">Dense</span>)                        │ (<span style=\"color: #00d7ff; text-decoration-color: #00d7ff\">None</span>, <span style=\"color: #00af00; text-decoration-color: #00af00\">8192</span>)                │      <span style=\"color: #00af00; text-decoration-color: #00af00\">65,544,192</span> │\n",
       "├──────────────────────────────────────┼─────────────────────────────┼─────────────────┤\n",
       "│ dropout (<span style=\"color: #0087ff; text-decoration-color: #0087ff\">Dropout</span>)                    │ (<span style=\"color: #00d7ff; text-decoration-color: #00d7ff\">None</span>, <span style=\"color: #00af00; text-decoration-color: #00af00\">8192</span>)                │               <span style=\"color: #00af00; text-decoration-color: #00af00\">0</span> │\n",
       "├──────────────────────────────────────┼─────────────────────────────┼─────────────────┤\n",
       "│ dense_1 (<span style=\"color: #0087ff; text-decoration-color: #0087ff\">Dense</span>)                      │ (<span style=\"color: #00d7ff; text-decoration-color: #00d7ff\">None</span>, <span style=\"color: #00af00; text-decoration-color: #00af00\">4096</span>)                │      <span style=\"color: #00af00; text-decoration-color: #00af00\">33,558,528</span> │\n",
       "├──────────────────────────────────────┼─────────────────────────────┼─────────────────┤\n",
       "│ dropout_1 (<span style=\"color: #0087ff; text-decoration-color: #0087ff\">Dropout</span>)                  │ (<span style=\"color: #00d7ff; text-decoration-color: #00d7ff\">None</span>, <span style=\"color: #00af00; text-decoration-color: #00af00\">4096</span>)                │               <span style=\"color: #00af00; text-decoration-color: #00af00\">0</span> │\n",
       "├──────────────────────────────────────┼─────────────────────────────┼─────────────────┤\n",
       "│ dense_2 (<span style=\"color: #0087ff; text-decoration-color: #0087ff\">Dense</span>)                      │ (<span style=\"color: #00d7ff; text-decoration-color: #00d7ff\">None</span>, <span style=\"color: #00af00; text-decoration-color: #00af00\">2048</span>)                │       <span style=\"color: #00af00; text-decoration-color: #00af00\">8,390,656</span> │\n",
       "├──────────────────────────────────────┼─────────────────────────────┼─────────────────┤\n",
       "│ dropout_2 (<span style=\"color: #0087ff; text-decoration-color: #0087ff\">Dropout</span>)                  │ (<span style=\"color: #00d7ff; text-decoration-color: #00d7ff\">None</span>, <span style=\"color: #00af00; text-decoration-color: #00af00\">2048</span>)                │               <span style=\"color: #00af00; text-decoration-color: #00af00\">0</span> │\n",
       "├──────────────────────────────────────┼─────────────────────────────┼─────────────────┤\n",
       "│ dense_3 (<span style=\"color: #0087ff; text-decoration-color: #0087ff\">Dense</span>)                      │ (<span style=\"color: #00d7ff; text-decoration-color: #00d7ff\">None</span>, <span style=\"color: #00af00; text-decoration-color: #00af00\">1024</span>)                │       <span style=\"color: #00af00; text-decoration-color: #00af00\">2,098,176</span> │\n",
       "├──────────────────────────────────────┼─────────────────────────────┼─────────────────┤\n",
       "│ dropout_3 (<span style=\"color: #0087ff; text-decoration-color: #0087ff\">Dropout</span>)                  │ (<span style=\"color: #00d7ff; text-decoration-color: #00d7ff\">None</span>, <span style=\"color: #00af00; text-decoration-color: #00af00\">1024</span>)                │               <span style=\"color: #00af00; text-decoration-color: #00af00\">0</span> │\n",
       "├──────────────────────────────────────┼─────────────────────────────┼─────────────────┤\n",
       "│ dense_4 (<span style=\"color: #0087ff; text-decoration-color: #0087ff\">Dense</span>)                      │ (<span style=\"color: #00d7ff; text-decoration-color: #00d7ff\">None</span>, <span style=\"color: #00af00; text-decoration-color: #00af00\">512</span>)                 │         <span style=\"color: #00af00; text-decoration-color: #00af00\">524,800</span> │\n",
       "├──────────────────────────────────────┼─────────────────────────────┼─────────────────┤\n",
       "│ dropout_4 (<span style=\"color: #0087ff; text-decoration-color: #0087ff\">Dropout</span>)                  │ (<span style=\"color: #00d7ff; text-decoration-color: #00d7ff\">None</span>, <span style=\"color: #00af00; text-decoration-color: #00af00\">512</span>)                 │               <span style=\"color: #00af00; text-decoration-color: #00af00\">0</span> │\n",
       "├──────────────────────────────────────┼─────────────────────────────┼─────────────────┤\n",
       "│ dense_5 (<span style=\"color: #0087ff; text-decoration-color: #0087ff\">Dense</span>)                      │ (<span style=\"color: #00d7ff; text-decoration-color: #00d7ff\">None</span>, <span style=\"color: #00af00; text-decoration-color: #00af00\">256</span>)                 │         <span style=\"color: #00af00; text-decoration-color: #00af00\">131,328</span> │\n",
       "├──────────────────────────────────────┼─────────────────────────────┼─────────────────┤\n",
       "│ dropout_5 (<span style=\"color: #0087ff; text-decoration-color: #0087ff\">Dropout</span>)                  │ (<span style=\"color: #00d7ff; text-decoration-color: #00d7ff\">None</span>, <span style=\"color: #00af00; text-decoration-color: #00af00\">256</span>)                 │               <span style=\"color: #00af00; text-decoration-color: #00af00\">0</span> │\n",
       "├──────────────────────────────────────┼─────────────────────────────┼─────────────────┤\n",
       "│ dense_6 (<span style=\"color: #0087ff; text-decoration-color: #0087ff\">Dense</span>)                      │ (<span style=\"color: #00d7ff; text-decoration-color: #00d7ff\">None</span>, <span style=\"color: #00af00; text-decoration-color: #00af00\">128</span>)                 │          <span style=\"color: #00af00; text-decoration-color: #00af00\">32,896</span> │\n",
       "├──────────────────────────────────────┼─────────────────────────────┼─────────────────┤\n",
       "│ dropout_6 (<span style=\"color: #0087ff; text-decoration-color: #0087ff\">Dropout</span>)                  │ (<span style=\"color: #00d7ff; text-decoration-color: #00d7ff\">None</span>, <span style=\"color: #00af00; text-decoration-color: #00af00\">128</span>)                 │               <span style=\"color: #00af00; text-decoration-color: #00af00\">0</span> │\n",
       "├──────────────────────────────────────┼─────────────────────────────┼─────────────────┤\n",
       "│ dense_7 (<span style=\"color: #0087ff; text-decoration-color: #0087ff\">Dense</span>)                      │ (<span style=\"color: #00d7ff; text-decoration-color: #00d7ff\">None</span>, <span style=\"color: #00af00; text-decoration-color: #00af00\">64</span>)                  │           <span style=\"color: #00af00; text-decoration-color: #00af00\">8,256</span> │\n",
       "├──────────────────────────────────────┼─────────────────────────────┼─────────────────┤\n",
       "│ dropout_7 (<span style=\"color: #0087ff; text-decoration-color: #0087ff\">Dropout</span>)                  │ (<span style=\"color: #00d7ff; text-decoration-color: #00d7ff\">None</span>, <span style=\"color: #00af00; text-decoration-color: #00af00\">64</span>)                  │               <span style=\"color: #00af00; text-decoration-color: #00af00\">0</span> │\n",
       "├──────────────────────────────────────┼─────────────────────────────┼─────────────────┤\n",
       "│ dense_8 (<span style=\"color: #0087ff; text-decoration-color: #0087ff\">Dense</span>)                      │ (<span style=\"color: #00d7ff; text-decoration-color: #00d7ff\">None</span>, <span style=\"color: #00af00; text-decoration-color: #00af00\">32</span>)                  │           <span style=\"color: #00af00; text-decoration-color: #00af00\">2,080</span> │\n",
       "├──────────────────────────────────────┼─────────────────────────────┼─────────────────┤\n",
       "│ dropout_8 (<span style=\"color: #0087ff; text-decoration-color: #0087ff\">Dropout</span>)                  │ (<span style=\"color: #00d7ff; text-decoration-color: #00d7ff\">None</span>, <span style=\"color: #00af00; text-decoration-color: #00af00\">32</span>)                  │               <span style=\"color: #00af00; text-decoration-color: #00af00\">0</span> │\n",
       "├──────────────────────────────────────┼─────────────────────────────┼─────────────────┤\n",
       "│ dense_9 (<span style=\"color: #0087ff; text-decoration-color: #0087ff\">Dense</span>)                      │ (<span style=\"color: #00d7ff; text-decoration-color: #00d7ff\">None</span>, <span style=\"color: #00af00; text-decoration-color: #00af00\">1</span>)                   │              <span style=\"color: #00af00; text-decoration-color: #00af00\">33</span> │\n",
       "└──────────────────────────────────────┴─────────────────────────────┴─────────────────┘\n",
       "</pre>\n"
      ],
      "text/plain": [
       "┏━━━━━━━━━━━━━━━━━━━━━━━━━━━━━━━━━━━━━━┳━━━━━━━━━━━━━━━━━━━━━━━━━━━━━┳━━━━━━━━━━━━━━━━━┓\n",
       "┃\u001b[1m \u001b[0m\u001b[1mLayer (type)                        \u001b[0m\u001b[1m \u001b[0m┃\u001b[1m \u001b[0m\u001b[1mOutput Shape               \u001b[0m\u001b[1m \u001b[0m┃\u001b[1m \u001b[0m\u001b[1m        Param #\u001b[0m\u001b[1m \u001b[0m┃\n",
       "┡━━━━━━━━━━━━━━━━━━━━━━━━━━━━━━━━━━━━━━╇━━━━━━━━━━━━━━━━━━━━━━━━━━━━━╇━━━━━━━━━━━━━━━━━┩\n",
       "│ flatten (\u001b[38;5;33mFlatten\u001b[0m)                    │ (\u001b[38;5;45mNone\u001b[0m, \u001b[38;5;34m8000\u001b[0m)                │               \u001b[38;5;34m0\u001b[0m │\n",
       "├──────────────────────────────────────┼─────────────────────────────┼─────────────────┤\n",
       "│ dense (\u001b[38;5;33mDense\u001b[0m)                        │ (\u001b[38;5;45mNone\u001b[0m, \u001b[38;5;34m8192\u001b[0m)                │      \u001b[38;5;34m65,544,192\u001b[0m │\n",
       "├──────────────────────────────────────┼─────────────────────────────┼─────────────────┤\n",
       "│ dropout (\u001b[38;5;33mDropout\u001b[0m)                    │ (\u001b[38;5;45mNone\u001b[0m, \u001b[38;5;34m8192\u001b[0m)                │               \u001b[38;5;34m0\u001b[0m │\n",
       "├──────────────────────────────────────┼─────────────────────────────┼─────────────────┤\n",
       "│ dense_1 (\u001b[38;5;33mDense\u001b[0m)                      │ (\u001b[38;5;45mNone\u001b[0m, \u001b[38;5;34m4096\u001b[0m)                │      \u001b[38;5;34m33,558,528\u001b[0m │\n",
       "├──────────────────────────────────────┼─────────────────────────────┼─────────────────┤\n",
       "│ dropout_1 (\u001b[38;5;33mDropout\u001b[0m)                  │ (\u001b[38;5;45mNone\u001b[0m, \u001b[38;5;34m4096\u001b[0m)                │               \u001b[38;5;34m0\u001b[0m │\n",
       "├──────────────────────────────────────┼─────────────────────────────┼─────────────────┤\n",
       "│ dense_2 (\u001b[38;5;33mDense\u001b[0m)                      │ (\u001b[38;5;45mNone\u001b[0m, \u001b[38;5;34m2048\u001b[0m)                │       \u001b[38;5;34m8,390,656\u001b[0m │\n",
       "├──────────────────────────────────────┼─────────────────────────────┼─────────────────┤\n",
       "│ dropout_2 (\u001b[38;5;33mDropout\u001b[0m)                  │ (\u001b[38;5;45mNone\u001b[0m, \u001b[38;5;34m2048\u001b[0m)                │               \u001b[38;5;34m0\u001b[0m │\n",
       "├──────────────────────────────────────┼─────────────────────────────┼─────────────────┤\n",
       "│ dense_3 (\u001b[38;5;33mDense\u001b[0m)                      │ (\u001b[38;5;45mNone\u001b[0m, \u001b[38;5;34m1024\u001b[0m)                │       \u001b[38;5;34m2,098,176\u001b[0m │\n",
       "├──────────────────────────────────────┼─────────────────────────────┼─────────────────┤\n",
       "│ dropout_3 (\u001b[38;5;33mDropout\u001b[0m)                  │ (\u001b[38;5;45mNone\u001b[0m, \u001b[38;5;34m1024\u001b[0m)                │               \u001b[38;5;34m0\u001b[0m │\n",
       "├──────────────────────────────────────┼─────────────────────────────┼─────────────────┤\n",
       "│ dense_4 (\u001b[38;5;33mDense\u001b[0m)                      │ (\u001b[38;5;45mNone\u001b[0m, \u001b[38;5;34m512\u001b[0m)                 │         \u001b[38;5;34m524,800\u001b[0m │\n",
       "├──────────────────────────────────────┼─────────────────────────────┼─────────────────┤\n",
       "│ dropout_4 (\u001b[38;5;33mDropout\u001b[0m)                  │ (\u001b[38;5;45mNone\u001b[0m, \u001b[38;5;34m512\u001b[0m)                 │               \u001b[38;5;34m0\u001b[0m │\n",
       "├──────────────────────────────────────┼─────────────────────────────┼─────────────────┤\n",
       "│ dense_5 (\u001b[38;5;33mDense\u001b[0m)                      │ (\u001b[38;5;45mNone\u001b[0m, \u001b[38;5;34m256\u001b[0m)                 │         \u001b[38;5;34m131,328\u001b[0m │\n",
       "├──────────────────────────────────────┼─────────────────────────────┼─────────────────┤\n",
       "│ dropout_5 (\u001b[38;5;33mDropout\u001b[0m)                  │ (\u001b[38;5;45mNone\u001b[0m, \u001b[38;5;34m256\u001b[0m)                 │               \u001b[38;5;34m0\u001b[0m │\n",
       "├──────────────────────────────────────┼─────────────────────────────┼─────────────────┤\n",
       "│ dense_6 (\u001b[38;5;33mDense\u001b[0m)                      │ (\u001b[38;5;45mNone\u001b[0m, \u001b[38;5;34m128\u001b[0m)                 │          \u001b[38;5;34m32,896\u001b[0m │\n",
       "├──────────────────────────────────────┼─────────────────────────────┼─────────────────┤\n",
       "│ dropout_6 (\u001b[38;5;33mDropout\u001b[0m)                  │ (\u001b[38;5;45mNone\u001b[0m, \u001b[38;5;34m128\u001b[0m)                 │               \u001b[38;5;34m0\u001b[0m │\n",
       "├──────────────────────────────────────┼─────────────────────────────┼─────────────────┤\n",
       "│ dense_7 (\u001b[38;5;33mDense\u001b[0m)                      │ (\u001b[38;5;45mNone\u001b[0m, \u001b[38;5;34m64\u001b[0m)                  │           \u001b[38;5;34m8,256\u001b[0m │\n",
       "├──────────────────────────────────────┼─────────────────────────────┼─────────────────┤\n",
       "│ dropout_7 (\u001b[38;5;33mDropout\u001b[0m)                  │ (\u001b[38;5;45mNone\u001b[0m, \u001b[38;5;34m64\u001b[0m)                  │               \u001b[38;5;34m0\u001b[0m │\n",
       "├──────────────────────────────────────┼─────────────────────────────┼─────────────────┤\n",
       "│ dense_8 (\u001b[38;5;33mDense\u001b[0m)                      │ (\u001b[38;5;45mNone\u001b[0m, \u001b[38;5;34m32\u001b[0m)                  │           \u001b[38;5;34m2,080\u001b[0m │\n",
       "├──────────────────────────────────────┼─────────────────────────────┼─────────────────┤\n",
       "│ dropout_8 (\u001b[38;5;33mDropout\u001b[0m)                  │ (\u001b[38;5;45mNone\u001b[0m, \u001b[38;5;34m32\u001b[0m)                  │               \u001b[38;5;34m0\u001b[0m │\n",
       "├──────────────────────────────────────┼─────────────────────────────┼─────────────────┤\n",
       "│ dense_9 (\u001b[38;5;33mDense\u001b[0m)                      │ (\u001b[38;5;45mNone\u001b[0m, \u001b[38;5;34m1\u001b[0m)                   │              \u001b[38;5;34m33\u001b[0m │\n",
       "└──────────────────────────────────────┴─────────────────────────────┴─────────────────┘\n"
      ]
     },
     "metadata": {},
     "output_type": "display_data"
    },
    {
     "data": {
      "text/html": [
       "<pre style=\"white-space:pre;overflow-x:auto;line-height:normal;font-family:Menlo,'DejaVu Sans Mono',consolas,'Courier New',monospace\"><span style=\"font-weight: bold\"> Total params: </span><span style=\"color: #00af00; text-decoration-color: #00af00\">330,872,837</span> (1.23 GB)\n",
       "</pre>\n"
      ],
      "text/plain": [
       "\u001b[1m Total params: \u001b[0m\u001b[38;5;34m330,872,837\u001b[0m (1.23 GB)\n"
      ]
     },
     "metadata": {},
     "output_type": "display_data"
    },
    {
     "data": {
      "text/html": [
       "<pre style=\"white-space:pre;overflow-x:auto;line-height:normal;font-family:Menlo,'DejaVu Sans Mono',consolas,'Courier New',monospace\"><span style=\"font-weight: bold\"> Trainable params: </span><span style=\"color: #00af00; text-decoration-color: #00af00\">110,290,945</span> (420.73 MB)\n",
       "</pre>\n"
      ],
      "text/plain": [
       "\u001b[1m Trainable params: \u001b[0m\u001b[38;5;34m110,290,945\u001b[0m (420.73 MB)\n"
      ]
     },
     "metadata": {},
     "output_type": "display_data"
    },
    {
     "data": {
      "text/html": [
       "<pre style=\"white-space:pre;overflow-x:auto;line-height:normal;font-family:Menlo,'DejaVu Sans Mono',consolas,'Courier New',monospace\"><span style=\"font-weight: bold\"> Non-trainable params: </span><span style=\"color: #00af00; text-decoration-color: #00af00\">0</span> (0.00 B)\n",
       "</pre>\n"
      ],
      "text/plain": [
       "\u001b[1m Non-trainable params: \u001b[0m\u001b[38;5;34m0\u001b[0m (0.00 B)\n"
      ]
     },
     "metadata": {},
     "output_type": "display_data"
    },
    {
     "data": {
      "text/html": [
       "<pre style=\"white-space:pre;overflow-x:auto;line-height:normal;font-family:Menlo,'DejaVu Sans Mono',consolas,'Courier New',monospace\"><span style=\"font-weight: bold\"> Optimizer params: </span><span style=\"color: #00af00; text-decoration-color: #00af00\">220,581,892</span> (841.45 MB)\n",
       "</pre>\n"
      ],
      "text/plain": [
       "\u001b[1m Optimizer params: \u001b[0m\u001b[38;5;34m220,581,892\u001b[0m (841.45 MB)\n"
      ]
     },
     "metadata": {},
     "output_type": "display_data"
    }
   ],
   "source": [
    "model.summary()"
   ]
  },
  {
   "cell_type": "markdown",
   "id": "f92da46e",
   "metadata": {},
   "source": [
    "###  Model Validation"
   ]
  },
  {
   "cell_type": "code",
   "execution_count": 10,
   "id": "2adc662a",
   "metadata": {},
   "outputs": [
    {
     "name": "stdout",
     "output_type": "stream",
     "text": [
      "Validation\n",
      "Probabiity Range Accuracy: 0.5045164705882353\n",
      "Probabiity Range Uncertainty: 0.745339443254818\n",
      "Standard Deviation:  0.13001882\n",
      "Probability:  0.55698425\n"
     ]
    }
   ],
   "source": [
    "print(\"Validation\")\n",
    "probabilities, sd_list = test(X_val,y_val,model)\n",
    "print(\"Standard Deviation: \", np.mean(sd_list)) \n",
    "print(\"Probability: \", np.mean(probabilities))"
   ]
  },
  {
   "cell_type": "code",
   "execution_count": 12,
   "id": "9cf74d1f",
   "metadata": {},
   "outputs": [
    {
     "data": {
      "image/png": "[encoded data removed]",
      "text/plain": [
       "<Figure size 432x288 with 1 Axes>"
      ]
     },
     "metadata": {
      "needs_background": "light"
     },
     "output_type": "display_data"
    }
   ],
   "source": [
    "# Separate data points based on their true labels\n",
    "points_label_0 = [(length, prob) for length, prob, label in zip(range(len(probabilities)), probabilities, y_val) if label == 0]\n",
    "points_label_1 = [(length, prob) for length, prob, label in zip(range(len(probabilities)), probabilities, y_val) if label == 1]\n",
    "\n",
    "# Extract x and y values for the scatter plot\n",
    "x_label_0, y_label_0 = zip(*points_label_0)\n",
    "x_label_1, y_label_1 = zip(*points_label_1)\n",
    "\n",
    "plt.scatter(x_label_0, y_label_0, c='blue', label='Label 0')\n",
    "plt.scatter(x_label_1, y_label_1, c='red', label='Label 1')\n",
    "plt.title('Scatter Plot of Probabilities')\n",
    "plt.xlabel('Length')\n",
    "plt.ylabel('Probabilities')\n",
    "plt.legend()\n",
    "plt.show()"
   ]
  },
  {
   "cell_type": "code",
   "execution_count": 13,
   "id": "cc0e5128",
   "metadata": {},
   "outputs": [
    {
     "data": {
      "image/png": "[encoded data removed]",
      "text/plain": [
       "<Figure size 432x288 with 1 Axes>"
      ]
     },
     "metadata": {
      "needs_background": "light"
     },
     "output_type": "display_data"
    }
   ],
   "source": [
    "sns.kdeplot(probabilities, fill=True)\n",
    "plt.title('Probability Density Function (PDF) of Probabilities')\n",
    "plt.xlabel('Probabilities')\n",
    "plt.ylabel('Density')\n",
    "plt.show()"
   ]
  },
  {
   "cell_type": "code",
   "execution_count": 14,
   "id": "630e84f3",
   "metadata": {},
   "outputs": [],
   "source": [
    "correct_prediction = 0 \n",
    "uncertain_prediction = 0\n",
    "\n",
    "standard_deviation = np.mean(sd_list) / 2\n",
    "\n",
    "total_data_points = len(y_val)\n",
    "\n",
    "for i in range(total_data_points):\n",
    "    prob = probabilities[i]\n",
    "    \n",
    "    # Define lower and upper bounds based on standard deviation\n",
    "    lb = prob - standard_deviation\n",
    "    ub = prob + standard_deviation\n",
    "    \n",
    "    # Classify predictions\n",
    "    c = 1 if lb > 0.55 else 0 if ub < 0.55 else 0.5\n",
    "    \n",
    "    # Count uncertain predictions\n",
    "    if c == 0.5:\n",
    "        uncertain_prediction += 1\n",
    "        continue\n",
    "    \n",
    "    # Count correct predictions\n",
    "    if c == y_test.iloc[i]:\n",
    "        correct_prediction += 1\n"
   ]
  },
  {
   "cell_type": "code",
   "execution_count": 15,
   "id": "99d5255f",
   "metadata": {},
   "outputs": [
    {
     "name": "stdout",
     "output_type": "stream",
     "text": [
      "Validation SD Accuracy:  0.5\n",
      "Validation SD Uncertainity 0.9304734475374732\n"
     ]
    }
   ],
   "source": [
    "print(\"Validation SD Accuracy: \", correct_prediction/(total_data_points - uncertain_prediction))\n",
    "print(\"Validation SD Uncertainity\", uncertain_prediction/total_data_points)"
   ]
  },
  {
   "cell_type": "markdown",
   "id": "58fe3ee2",
   "metadata": {},
   "source": [
    "### Model Testing"
   ]
  },
  {
   "cell_type": "code",
   "execution_count": 16,
   "id": "51ef6b52",
   "metadata": {},
   "outputs": [
    {
     "name": "stdout",
     "output_type": "stream",
     "text": [
      "Testing\n",
      "Probabiity Range Accuracy: 0.5566492537313433\n",
      "Probabiity Range Uncertainty: 0.7445492537313433\n",
      "Standard Deviation:  0.12904269\n",
      "Probability:  0.5580607\n"
     ]
    }
   ],
   "source": [
    "print(\"Testing\")\n",
    "probabilities, sd_list = test(X_test,y_test,model)\n",
    "print(\"Standard Deviation: \", np.mean(sd_list))\n",
    "print(\"Probability: \", np.mean(probabilities))"
   ]
  },
  {
   "cell_type": "code",
   "execution_count": 18,
   "id": "3aa9a746",
   "metadata": {},
   "outputs": [
    {
     "data": {
      "image/png": "[encoded data removed]",
      "text/plain": [
       "<Figure size 432x288 with 1 Axes>"
      ]
     },
     "metadata": {
      "needs_background": "light"
     },
     "output_type": "display_data"
    }
   ],
   "source": [
    "# Separate data points based on their true labels\n",
    "points_label_0 = [(length, prob) for length, prob, label in zip(range(len(probabilities)), probabilities, y_test) if label == 0]\n",
    "points_label_1 = [(length, prob) for length, prob, label in zip(range(len(probabilities)), probabilities, y_test) if label == 1]\n",
    "\n",
    "# Extract x and y values for the scatter plot\n",
    "x_label_0, y_label_0 = zip(*points_label_0)\n",
    "x_label_1, y_label_1 = zip(*points_label_1)\n",
    "\n",
    "plt.axhline(y=0.5, color='black', linestyle='--', linewidth=3)\n",
    "plt.axhline(y=0.6, color='black', linestyle='--', linewidth=3)\n",
    "plt.scatter(x_label_0, y_label_0, c='blue', label='Label 0')\n",
    "plt.scatter(x_label_1, y_label_1, c='red', label='Label 1')\n",
    "plt.title('Scatter Plot of Probabilities')\n",
    "plt.xlabel('Length')\n",
    "plt.ylabel('Probabilities')\n",
    "plt.legend()\n",
    "plt.show()"
   ]
  },
  {
   "cell_type": "code",
   "execution_count": 19,
   "id": "f8bb9c14",
   "metadata": {
    "scrolled": true
   },
   "outputs": [
    {
     "data": {
      "image/png": "[encoded data removed]",
      "text/plain": [
       "<Figure size 432x288 with 1 Axes>"
      ]
     },
     "metadata": {
      "needs_background": "light"
     },
     "output_type": "display_data"
    }
   ],
   "source": [
    "sns.kdeplot(probabilities, fill=True)\n",
    "plt.title('Probability Density Function (PDF) of Probabilities')\n",
    "plt.xlabel('Probabilities')\n",
    "plt.ylabel('Density')\n",
    "plt.show()"
   ]
  },
  {
   "cell_type": "code",
   "execution_count": 20,
   "id": "4a331c35",
   "metadata": {},
   "outputs": [],
   "source": [
    "correct_prediction = 0 \n",
    "uncertain_prediction = 0\n",
    "standard_deviation =  0.13 / 2\n",
    "total_data_points = len(y_test)\n",
    "\n",
    "for i in range(total_data_points):\n",
    "    prob = probabilities[i]\n",
    "    \n",
    "    # Define lower and upper bounds based on standard deviation\n",
    "    lb = prob - standard_deviation\n",
    "    ub = prob + standard_deviation\n",
    "    \n",
    "    # Classify predictions\n",
    "    c = 1 if lb > 0.55 else 0 if ub < 0.55 else 0.5\n",
    "    \n",
    "    # Count uncertain predictions\n",
    "    if c == 0.5:\n",
    "        uncertain_prediction += 1\n",
    "        continue\n",
    "    \n",
    "    # Count correct predictions\n",
    "    if c == y_test.iloc[i]:\n",
    "        correct_prediction += 1\n"
   ]
  },
  {
   "cell_type": "code",
   "execution_count": 21,
   "id": "2e8f4616",
   "metadata": {},
   "outputs": [
    {
     "name": "stdout",
     "output_type": "stream",
     "text": [
      "Validation SD Accuracy:  0.5072156942562585\n",
      "Validation SD Uncertainity 0.9202347320813651\n"
     ]
    }
   ],
   "source": [
    "print(\"Validation SD Accuracy: \", correct_prediction/(total_data_points - uncertain_prediction))\n",
    "print(\"Validation SD Uncertainity\", uncertain_prediction/total_data_points)"
   ]
  },
  {
   "cell_type": "code",
   "execution_count": null,
   "id": "12549ee7",
   "metadata": {},
   "outputs": [],
   "source": []
  },
  {
   "cell_type": "code",
   "execution_count": null,
   "id": "0e3ed9dc",
   "metadata": {},
   "outputs": [],
   "source": []
  },
  {
   "cell_type": "code",
   "execution_count": null,
   "id": "b7bee1a5",
   "metadata": {},
   "outputs": [],
   "source": []
  },
  {
   "cell_type": "code",
   "execution_count": null,
   "id": "758aeea1",
   "metadata": {},
   "outputs": [],
   "source": []
  }
 ],
 "metadata": {
  "kernelspec": {
   "display_name": "Python 3 (ipykernel)",
   "language": "python",
   "name": "python3"
  },
  "language_info": {
   "codemirror_mode": {
    "name": "ipython",
    "version": 3
   },
   "file_extension": ".py",
   "mimetype": "text/x-python",
   "name": "python",
   "nbconvert_exporter": "python",
   "pygments_lexer": "ipython3",
   "version": "3.9.7"
  }
 },
 "nbformat": 4,
 "nbformat_minor": 5
}
