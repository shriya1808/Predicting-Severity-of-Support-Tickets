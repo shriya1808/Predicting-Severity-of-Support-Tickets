{
 "cells": [
  {
   "cell_type": "markdown",
   "id": "13a001b3",
   "metadata": {},
   "source": [
    "# Ensemble Model"
   ]
  },
  {
   "cell_type": "code",
   "execution_count": 1,
   "id": "cb29133b",
   "metadata": {},
   "outputs": [],
   "source": [
    "# Import libraries\n",
    "import pandas as pd\n",
    "import numpy as np\n",
    "import tensorflow as tf\n",
    "from keras.preprocessing.sequence import pad_sequences\n",
    "from tensorflow.keras.layers import Dense, Dropout, Flatten,  GRU\n",
    "from tensorflow.keras import Sequential\n",
    "from tensorflow.keras.losses import BinaryCrossentropy\n",
    "from keras.callbacks import EarlyStopping\n",
    "from tensorflow.keras.initializers import GlorotNormal, HeNormal, Orthogonal, VarianceScaling\n",
    "import matplotlib.pyplot as plt\n",
    "import seaborn as sns"
   ]
  },
  {
   "cell_type": "markdown",
   "id": "c4333627",
   "metadata": {},
   "source": [
    "### Load data"
   ]
  },
  {
   "cell_type": "code",
   "execution_count": 2,
   "id": "d867772e",
   "metadata": {},
   "outputs": [
    {
     "name": "stdout",
     "output_type": "stream",
     "text": [
      "Reading data\n",
      "Splitting events\n"
     ]
    }
   ],
   "source": [
    "print('Reading data')\n",
    "trn = pd.read_hdf('train.h5')\n",
    "val = pd.read_hdf('validation.h5')\n",
    "tst = pd.read_hdf('test.h5')\n",
    "\n",
    "val = val.sample(frac=1).reset_index(drop=True)\n",
    "tst = tst.sample(frac=1).reset_index(drop=True)\n",
    "\n",
    "max_sequence_length = 8000\n",
    "\n",
    "# sequences to list of integers\n",
    "print('Splitting events')\n",
    "trn['Events_removed'] = trn['Events_removed'].apply(lambda x: [int(e) for e in x.split(',')[:max_sequence_length]])\n",
    "val['Events_removed'] = val['Events_removed'].apply(lambda x: [int(e) for e in x.split(',')[:max_sequence_length]])\n",
    "tst['Events_removed'] = tst['Events_removed'].apply(lambda x: [int(e) for e in x.split(',')[:max_sequence_length]])\n",
    "\n",
    "# Padding sequences to ensure uniform length\n",
    "X = pad_sequences(trn['Events_removed'], maxlen=max_sequence_length)\n",
    "V = pad_sequences(val['Events_removed'], maxlen=max_sequence_length)\n",
    "T = pad_sequences(tst['Events_removed'], maxlen=max_sequence_length)\n"
   ]
  },
  {
   "cell_type": "code",
   "execution_count": 3,
   "id": "4b134bf2",
   "metadata": {},
   "outputs": [],
   "source": [
    "X_train, y_train= X, trn['Onsite']\n",
    "X_val, y_val= V, val['Onsite']\n",
    "X_test, y_test = T, tst['Onsite']"
   ]
  },
  {
   "cell_type": "markdown",
   "id": "750419a5",
   "metadata": {},
   "source": [
    "### Define model architecture, train and test functions"
   ]
  },
  {
   "cell_type": "code",
   "execution_count": 4,
   "id": "395fb8a7",
   "metadata": {},
   "outputs": [],
   "source": [
    "def get_model(initializer):\n",
    "    \"\"\"\n",
    "    Create a Sequential Dense model with specified initializer.\n",
    "\n",
    "    This function creates a Sequential Dense model with the specified initializer for the kernel weights\n",
    "    of each Dense layer. The model architecture consists of several Dense layers with ReLU activation,\n",
    "    followed by a final Dense layer with sigmoid activation for binary classification.\n",
    "\n",
    "    Parameters:\n",
    "        initializer (str or initializer object): The initializer to use for the kernel weights\n",
    "            of the Dense layers.\n",
    "\n",
    "    Returns:\n",
    "        tf.keras.Model: The compiled Sequential Dense model.\n",
    "\n",
    "    Example:\n",
    "        model = get_model('glorot_uniform')\n",
    "    \"\"\"\n",
    "    \n",
    "    model = Sequential([\n",
    "            Flatten(input_shape=(8000,1)),\n",
    "            Dense(8192, activation='relu', kernel_initializer=initializer),\n",
    "            Dense(4096, activation='relu', kernel_initializer=initializer),\n",
    "            Dense(2048, activation='relu', kernel_initializer=initializer),\n",
    "            Dense(1024, activation='relu', kernel_initializer=initializer),\n",
    "            Dense(512, activation='relu', kernel_initializer=initializer),\n",
    "            Dense(256, activation='relu', kernel_initializer=initializer),\n",
    "            Dense(126, activation='relu', kernel_initializer=initializer),\n",
    "            Dense(64, activation='relu', kernel_initializer=initializer),\n",
    "            Dense(32, activation='relu', kernel_initializer=initializer),\n",
    "            Dropout(.2),\n",
    "            Dense(1, activation='sigmoid')\n",
    "        ])\n",
    "    optim = tf.keras.optimizers.Adam(1e-3)\n",
    "    model.compile(optimizer=optim, metrics=['accuracy'], loss=BinaryCrossentropy())\n",
    "    return model"
   ]
  },
  {
   "cell_type": "code",
   "execution_count": 5,
   "id": "e05e9544",
   "metadata": {},
   "outputs": [],
   "source": [
    "def get_gru_model():\n",
    "    \"\"\"\n",
    "    Define and compile the GRU model.\n",
    "    \n",
    "    The model architecture consists of 2 GRU layers with ReLU activation,\n",
    "    followed by a final Dense layer with sigmoid activation for binary classification.\n",
    "    \n",
    "    Returns:\n",
    "        tf.keras.Sequential: Compiled GRU model.\n",
    "    \"\"\"\n",
    "    model = Sequential([\n",
    "        GRU(128, activation='relu', input_shape=(8000,1), return_sequences=True),\n",
    "        Dropout(.1),\n",
    "        GRU(64, activation='relu'),\n",
    "        Dropout(.1),\n",
    "        Dense(1, activation='sigmoid')\n",
    "    ])\n",
    "    optim = tf.keras.optimizers.Adam(1e-3)\n",
    "    model.compile(optimizer=optim, metrics=['accuracy'], loss=BinaryCrossentropy())\n",
    "    return model"
   ]
  },
  {
   "cell_type": "code",
   "execution_count": 6,
   "id": "184383e5",
   "metadata": {},
   "outputs": [],
   "source": [
    "def train(x, y, model, x_val, y_val, epochs=1000):\n",
    "    \"\"\"\n",
    "    Train the neural network model with early stopping.\n",
    "    \n",
    "    Parameters:\n",
    "        x (numpy.ndarray): Input features for training.\n",
    "        y (numpy.ndarray): Target labels for training.\n",
    "        model (tf.keras.Sequential): Compiled neural network model.\n",
    "        x_val (numpy.ndarray): Input features for validation.\n",
    "        y_val (numpy.ndarray): Target labels for validation.\n",
    "        epochs (int): Number of epochs for training.\n",
    "        \n",
    "    Returns:\n",
    "        tf.keras.Sequential: Trained neural network model.\n",
    "    \"\"\"\n",
    "    \n",
    "    es = EarlyStopping(monitor='val_loss', min_delta=0.001, mode='min', patience=5, verbose=1, restore_best_weights=True)\n",
    "    model.fit(x, y, epochs=epochs, validation_data=(x_val, y_val), callbacks=[es])\n",
    "    return model"
   ]
  },
  {
   "cell_type": "code",
   "execution_count": 7,
   "id": "14c55e00",
   "metadata": {},
   "outputs": [],
   "source": [
    "def test(x_test, y_test, models):\n",
    "    \"\"\"\n",
    "    Test the ensemble of neural network models and calculate accuracy and uncertainty.\n",
    "    \n",
    "    Parameters:\n",
    "        x_test (numpy.ndarray): Input features for testing.\n",
    "        y_test (numpy.ndarray): Target labels for testing.\n",
    "        models (list): List of trained neural network models.\n",
    "        \n",
    "    Returns:\n",
    "        numpy.ndarray: Array of average predicted probabilities.\n",
    "        numpy.ndarray: Array of standard deviations.\n",
    "    \"\"\"\n",
    "    \n",
    "    l = []\n",
    "    correct_predictions = 0\n",
    "    uncertain_predictions = 0\n",
    "    total_probs = np.zeros(len(x_test))\n",
    "    \n",
    "    for model in models:\n",
    "        probabilities = model.predict(x_test)\n",
    "        temp = [prob[0] for prob in probabilities]\n",
    "        l.append(temp)\n",
    "        total_probs = total_probs + np.asarray(temp)\n",
    "        \n",
    "    sd = np.std(np.array(l),axis = 0) \n",
    "    total_probs = total_probs/len(models)\n",
    "    for i in range(len(total_probs)):\n",
    "        probs = total_probs[i]\n",
    "        y_true = y_test.iloc[i] \n",
    "\n",
    "        # Classify predictions\n",
    "        predicted_class = 1 if probs > 0.56 else 0 if probs < 0.54 else 0.5\n",
    "        \n",
    "        # Count uncertain predictions\n",
    "        if predicted_class == 0.5:\n",
    "            uncertain_predictions += 1\n",
    "            continue\n",
    "\n",
    "        # Count correct predictions\n",
    "        if predicted_class == y_true:\n",
    "            correct_predictions += 1\n",
    "\n",
    "    # Calculate accuracy\n",
    "    accuracy = correct_predictions / (len(x_test) - uncertain_predictions)\n",
    "    print('Ensemble Accuracy:', accuracy)\n",
    "    \n",
    "    # Calculate uncertainty\n",
    "    uncertainity = uncertain_predictions / len(x_test)\n",
    "    print('Ensemble Uncertainty: ', uncertainity)\n",
    "    \n",
    "    return total_probs, sd"
   ]
  },
  {
   "cell_type": "markdown",
   "id": "d4494692",
   "metadata": {},
   "source": [
    "### Train the model"
   ]
  },
  {
   "cell_type": "code",
   "execution_count": 8,
   "id": "7338b1a1",
   "metadata": {},
   "outputs": [
    {
     "name": "stdout",
     "output_type": "stream",
     "text": [
      "GlorotNormal\n",
      "Epoch 1/1000\n",
      "\u001b[1m89/89\u001b[0m \u001b[32m━━━━━━━━━━━━━━━━━━━━\u001b[0m\u001b[37m\u001b[0m \u001b[1m121s\u001b[0m 1s/step - accuracy: 0.4776 - loss: 819.9654 - val_accuracy: 0.5707 - val_loss: 0.6841\n",
      "Epoch 2/1000\n",
      "\u001b[1m89/89\u001b[0m \u001b[32m━━━━━━━━━━━━━━━━━━━━\u001b[0m\u001b[37m\u001b[0m \u001b[1m112s\u001b[0m 1s/step - accuracy: 0.5192 - loss: 0.8021 - val_accuracy: 0.5707 - val_loss: 0.6839\n",
      "Epoch 3/1000\n",
      "\u001b[1m89/89\u001b[0m \u001b[32m━━━━━━━━━━━━━━━━━━━━\u001b[0m\u001b[37m\u001b[0m \u001b[1m111s\u001b[0m 1s/step - accuracy: 0.5200 - loss: 0.6963 - val_accuracy: 0.5707 - val_loss: 0.6840\n",
      "Epoch 4/1000\n",
      "\u001b[1m89/89\u001b[0m \u001b[32m━━━━━━━━━━━━━━━━━━━━\u001b[0m\u001b[37m\u001b[0m \u001b[1m111s\u001b[0m 1s/step - accuracy: 0.5498 - loss: 0.6886 - val_accuracy: 0.5707 - val_loss: 0.6838\n",
      "Epoch 5/1000\n",
      "\u001b[1m89/89\u001b[0m \u001b[32m━━━━━━━━━━━━━━━━━━━━\u001b[0m\u001b[37m\u001b[0m \u001b[1m111s\u001b[0m 1s/step - accuracy: 0.5568 - loss: 0.6843 - val_accuracy: 0.5707 - val_loss: 0.6838\n",
      "Epoch 6/1000\n",
      "\u001b[1m89/89\u001b[0m \u001b[32m━━━━━━━━━━━━━━━━━━━━\u001b[0m\u001b[37m\u001b[0m \u001b[1m111s\u001b[0m 1s/step - accuracy: 0.5590 - loss: 0.6859 - val_accuracy: 0.5707 - val_loss: 0.6856\n",
      "Epoch 6: early stopping\n",
      "Restoring model weights from the end of the best epoch: 1.\n"
     ]
    }
   ],
   "source": [
    "models = []\n",
    "\n",
    "print(\"GlorotNormal\")\n",
    "golort = get_model(GlorotNormal())\n",
    "golort = train(x=X_train, y=y_train, model=golort, x_val=X_val, y_val=y_val)\n",
    "models.append(golort)"
   ]
  },
  {
   "cell_type": "code",
   "execution_count": 9,
   "id": "2a220d46",
   "metadata": {},
   "outputs": [
    {
     "name": "stdout",
     "output_type": "stream",
     "text": [
      "HeNormal\n",
      "Epoch 1/1000\n",
      "\u001b[1m89/89\u001b[0m \u001b[32m━━━━━━━━━━━━━━━━━━━━\u001b[0m\u001b[37m\u001b[0m \u001b[1m116s\u001b[0m 1s/step - accuracy: 0.4981 - loss: 3312.8965 - val_accuracy: 0.5707 - val_loss: 1.7986\n",
      "Epoch 2/1000\n",
      "\u001b[1m89/89\u001b[0m \u001b[32m━━━━━━━━━━━━━━━━━━━━\u001b[0m\u001b[37m\u001b[0m \u001b[1m112s\u001b[0m 1s/step - accuracy: 0.4606 - loss: 0.9487 - val_accuracy: 0.5707 - val_loss: 0.6930\n",
      "Epoch 3/1000\n",
      "\u001b[1m89/89\u001b[0m \u001b[32m━━━━━━━━━━━━━━━━━━━━\u001b[0m\u001b[37m\u001b[0m \u001b[1m112s\u001b[0m 1s/step - accuracy: 0.5459 - loss: 0.6929 - val_accuracy: 0.5707 - val_loss: 0.6918\n",
      "Epoch 4/1000\n",
      "\u001b[1m89/89\u001b[0m \u001b[32m━━━━━━━━━━━━━━━━━━━━\u001b[0m\u001b[37m\u001b[0m \u001b[1m111s\u001b[0m 1s/step - accuracy: 0.5636 - loss: 0.6916 - val_accuracy: 0.5707 - val_loss: 0.6906\n",
      "Epoch 5/1000\n",
      "\u001b[1m89/89\u001b[0m \u001b[32m━━━━━━━━━━━━━━━━━━━━\u001b[0m\u001b[37m\u001b[0m \u001b[1m112s\u001b[0m 1s/step - accuracy: 0.5494 - loss: 0.6912 - val_accuracy: 0.5707 - val_loss: 0.6896\n",
      "Epoch 6/1000\n",
      "\u001b[1m89/89\u001b[0m \u001b[32m━━━━━━━━━━━━━━━━━━━━\u001b[0m\u001b[37m\u001b[0m \u001b[1m111s\u001b[0m 1s/step - accuracy: 0.5519 - loss: 0.6904 - val_accuracy: 0.5707 - val_loss: 0.6886\n",
      "Epoch 7/1000\n",
      "\u001b[1m89/89\u001b[0m \u001b[32m━━━━━━━━━━━━━━━━━━━━\u001b[0m\u001b[37m\u001b[0m \u001b[1m112s\u001b[0m 1s/step - accuracy: 0.5612 - loss: 0.6891 - val_accuracy: 0.5707 - val_loss: 0.6878\n",
      "Epoch 8/1000\n",
      "\u001b[1m89/89\u001b[0m \u001b[32m━━━━━━━━━━━━━━━━━━━━\u001b[0m\u001b[37m\u001b[0m \u001b[1m111s\u001b[0m 1s/step - accuracy: 0.5653 - loss: 0.6879 - val_accuracy: 0.5707 - val_loss: 0.6870\n",
      "Epoch 9/1000\n",
      "\u001b[1m89/89\u001b[0m \u001b[32m━━━━━━━━━━━━━━━━━━━━\u001b[0m\u001b[37m\u001b[0m \u001b[1m112s\u001b[0m 1s/step - accuracy: 0.5496 - loss: 0.6891 - val_accuracy: 0.5707 - val_loss: 0.6865\n",
      "Epoch 10/1000\n",
      "\u001b[1m89/89\u001b[0m \u001b[32m━━━━━━━━━━━━━━━━━━━━\u001b[0m\u001b[37m\u001b[0m \u001b[1m112s\u001b[0m 1s/step - accuracy: 0.5466 - loss: 0.6892 - val_accuracy: 0.5707 - val_loss: 0.6860\n",
      "Epoch 11/1000\n",
      "\u001b[1m89/89\u001b[0m \u001b[32m━━━━━━━━━━━━━━━━━━━━\u001b[0m\u001b[37m\u001b[0m \u001b[1m111s\u001b[0m 1s/step - accuracy: 0.5668 - loss: 0.6862 - val_accuracy: 0.5707 - val_loss: 0.6856\n",
      "Epoch 12/1000\n",
      "\u001b[1m89/89\u001b[0m \u001b[32m━━━━━━━━━━━━━━━━━━━━\u001b[0m\u001b[37m\u001b[0m \u001b[1m112s\u001b[0m 1s/step - accuracy: 0.5649 - loss: 0.6861 - val_accuracy: 0.5707 - val_loss: 0.6853\n",
      "Epoch 13/1000\n",
      "\u001b[1m89/89\u001b[0m \u001b[32m━━━━━━━━━━━━━━━━━━━━\u001b[0m\u001b[37m\u001b[0m \u001b[1m111s\u001b[0m 1s/step - accuracy: 0.5693 - loss: 0.6852 - val_accuracy: 0.5707 - val_loss: 0.6851\n",
      "Epoch 14/1000\n",
      "\u001b[1m89/89\u001b[0m \u001b[32m━━━━━━━━━━━━━━━━━━━━\u001b[0m\u001b[37m\u001b[0m \u001b[1m111s\u001b[0m 1s/step - accuracy: 0.5592 - loss: 0.6867 - val_accuracy: 0.5707 - val_loss: 0.6850\n",
      "Epoch 15/1000\n",
      "\u001b[1m89/89\u001b[0m \u001b[32m━━━━━━━━━━━━━━━━━━━━\u001b[0m\u001b[37m\u001b[0m \u001b[1m111s\u001b[0m 1s/step - accuracy: 0.5365 - loss: 0.6906 - val_accuracy: 0.5707 - val_loss: 0.6848\n",
      "Epoch 16/1000\n",
      "\u001b[1m89/89\u001b[0m \u001b[32m━━━━━━━━━━━━━━━━━━━━\u001b[0m\u001b[37m\u001b[0m \u001b[1m111s\u001b[0m 1s/step - accuracy: 0.5490 - loss: 0.6883 - val_accuracy: 0.5707 - val_loss: 0.6846\n",
      "Epoch 17/1000\n",
      "\u001b[1m89/89\u001b[0m \u001b[32m━━━━━━━━━━━━━━━━━━━━\u001b[0m\u001b[37m\u001b[0m \u001b[1m111s\u001b[0m 1s/step - accuracy: 0.5360 - loss: 0.6908 - val_accuracy: 0.5707 - val_loss: 0.6845\n",
      "Epoch 17: early stopping\n",
      "Restoring model weights from the end of the best epoch: 12.\n"
     ]
    }
   ],
   "source": [
    "trn = trn.sample(frac=1).reset_index(drop=True)\n",
    "X = pad_sequences(trn['Events_removed'], maxlen=max_sequence_length)\n",
    "X_train, y_train= X, trn['Onsite']\n",
    "\n",
    "print(\"HeNormal\")\n",
    "henorm = get_model(HeNormal())\n",
    "henorm = train(x=X_train, y=y_train, model=henorm, x_val=X_val, y_val=y_val)\n",
    "models.append(henorm)"
   ]
  },
  {
   "cell_type": "code",
   "execution_count": 10,
   "id": "a4f2e92c",
   "metadata": {},
   "outputs": [
    {
     "name": "stdout",
     "output_type": "stream",
     "text": [
      "Orthogonal\n",
      "Epoch 1/1000\n",
      "\u001b[1m89/89\u001b[0m \u001b[32m━━━━━━━━━━━━━━━━━━━━\u001b[0m\u001b[37m\u001b[0m \u001b[1m117s\u001b[0m 1s/step - accuracy: 0.4918 - loss: 248.0648 - val_accuracy: 0.5621 - val_loss: 0.6931\n",
      "Epoch 2/1000\n",
      "\u001b[1m89/89\u001b[0m \u001b[32m━━━━━━━━━━━━━━━━━━━━\u001b[0m\u001b[37m\u001b[0m \u001b[1m114s\u001b[0m 1s/step - accuracy: 0.5127 - loss: 0.7195 - val_accuracy: 0.5707 - val_loss: 0.6865\n",
      "Epoch 3/1000\n",
      "\u001b[1m89/89\u001b[0m \u001b[32m━━━━━━━━━━━━━━━━━━━━\u001b[0m\u001b[37m\u001b[0m \u001b[1m113s\u001b[0m 1s/step - accuracy: 0.5229 - loss: 0.6906 - val_accuracy: 0.5707 - val_loss: 0.6850\n",
      "Epoch 4/1000\n",
      "\u001b[1m89/89\u001b[0m \u001b[32m━━━━━━━━━━━━━━━━━━━━\u001b[0m\u001b[37m\u001b[0m \u001b[1m113s\u001b[0m 1s/step - accuracy: 0.5554 - loss: 0.6898 - val_accuracy: 0.5707 - val_loss: 0.6836\n",
      "Epoch 5/1000\n",
      "\u001b[1m89/89\u001b[0m \u001b[32m━━━━━━━━━━━━━━━━━━━━\u001b[0m\u001b[37m\u001b[0m \u001b[1m115s\u001b[0m 1s/step - accuracy: 0.5555 - loss: 0.6890 - val_accuracy: 0.5707 - val_loss: 0.6840\n",
      "Epoch 6/1000\n",
      "\u001b[1m89/89\u001b[0m \u001b[32m━━━━━━━━━━━━━━━━━━━━\u001b[0m\u001b[37m\u001b[0m \u001b[1m114s\u001b[0m 1s/step - accuracy: 0.5436 - loss: 0.6895 - val_accuracy: 0.5707 - val_loss: 0.6857\n",
      "Epoch 7/1000\n",
      "\u001b[1m89/89\u001b[0m \u001b[32m━━━━━━━━━━━━━━━━━━━━\u001b[0m\u001b[37m\u001b[0m \u001b[1m114s\u001b[0m 1s/step - accuracy: 0.5506 - loss: 0.6887 - val_accuracy: 0.5707 - val_loss: 0.6835\n",
      "Epoch 8/1000\n",
      "\u001b[1m89/89\u001b[0m \u001b[32m━━━━━━━━━━━━━━━━━━━━\u001b[0m\u001b[37m\u001b[0m \u001b[1m114s\u001b[0m 1s/step - accuracy: 0.5491 - loss: 0.6898 - val_accuracy: 0.5707 - val_loss: 0.6853\n",
      "Epoch 9/1000\n",
      "\u001b[1m89/89\u001b[0m \u001b[32m━━━━━━━━━━━━━━━━━━━━\u001b[0m\u001b[37m\u001b[0m \u001b[1m114s\u001b[0m 1s/step - accuracy: 0.5496 - loss: 0.6879 - val_accuracy: 0.5707 - val_loss: 0.6840\n",
      "Epoch 9: early stopping\n",
      "Restoring model weights from the end of the best epoch: 4.\n"
     ]
    }
   ],
   "source": [
    "trn = trn.sample(frac=1).reset_index(drop=True)\n",
    "X = pad_sequences(trn['Events_removed'], maxlen=max_sequence_length)\n",
    "X_train, y_train= X, trn['Onsite']\n",
    "\n",
    "print(\"Orthogonal\")\n",
    "ortho = get_model(Orthogonal())\n",
    "ortho = train(x=X_train, y=y_train, model=ortho, x_val=X_val, y_val=y_val)\n",
    "models.append(ortho)"
   ]
  },
  {
   "cell_type": "code",
   "execution_count": 11,
   "id": "78057c20",
   "metadata": {},
   "outputs": [
    {
     "name": "stdout",
     "output_type": "stream",
     "text": [
      "VarianceScaling\n",
      "Epoch 1/1000\n",
      "\u001b[1m89/89\u001b[0m \u001b[32m━━━━━━━━━━━━━━━━━━━━\u001b[0m\u001b[37m\u001b[0m \u001b[1m118s\u001b[0m 1s/step - accuracy: 0.5308 - loss: 0.7142 - val_accuracy: 0.5707 - val_loss: 0.6889\n",
      "Epoch 2/1000\n",
      "\u001b[1m89/89\u001b[0m \u001b[32m━━━━━━━━━━━━━━━━━━━━\u001b[0m\u001b[37m\u001b[0m \u001b[1m112s\u001b[0m 1s/step - accuracy: 0.5504 - loss: 0.6895 - val_accuracy: 0.5707 - val_loss: 0.6854\n",
      "Epoch 3/1000\n",
      "\u001b[1m89/89\u001b[0m \u001b[32m━━━━━━━━━━━━━━━━━━━━\u001b[0m\u001b[37m\u001b[0m \u001b[1m112s\u001b[0m 1s/step - accuracy: 0.5586 - loss: 0.6866 - val_accuracy: 0.5707 - val_loss: 0.6846\n",
      "Epoch 4/1000\n",
      "\u001b[1m89/89\u001b[0m \u001b[32m━━━━━━━━━━━━━━━━━━━━\u001b[0m\u001b[37m\u001b[0m \u001b[1m111s\u001b[0m 1s/step - accuracy: 0.5485 - loss: 0.6890 - val_accuracy: 0.5707 - val_loss: 0.6845\n",
      "Epoch 5/1000\n",
      "\u001b[1m89/89\u001b[0m \u001b[32m━━━━━━━━━━━━━━━━━━━━\u001b[0m\u001b[37m\u001b[0m \u001b[1m112s\u001b[0m 1s/step - accuracy: 0.5430 - loss: 0.6899 - val_accuracy: 0.5707 - val_loss: 0.6843\n",
      "Epoch 6/1000\n",
      "\u001b[1m89/89\u001b[0m \u001b[32m━━━━━━━━━━━━━━━━━━━━\u001b[0m\u001b[37m\u001b[0m \u001b[1m112s\u001b[0m 1s/step - accuracy: 0.5535 - loss: 0.6881 - val_accuracy: 0.5707 - val_loss: 0.6845\n",
      "Epoch 7/1000\n",
      "\u001b[1m89/89\u001b[0m \u001b[32m━━━━━━━━━━━━━━━━━━━━\u001b[0m\u001b[37m\u001b[0m \u001b[1m111s\u001b[0m 1s/step - accuracy: 0.5565 - loss: 0.6870 - val_accuracy: 0.5707 - val_loss: 0.6843\n",
      "Epoch 8/1000\n",
      "\u001b[1m89/89\u001b[0m \u001b[32m━━━━━━━━━━━━━━━━━━━━\u001b[0m\u001b[37m\u001b[0m \u001b[1m111s\u001b[0m 1s/step - accuracy: 0.5481 - loss: 0.6888 - val_accuracy: 0.5707 - val_loss: 0.6843\n",
      "Epoch 9/1000\n",
      "\u001b[1m89/89\u001b[0m \u001b[32m━━━━━━━━━━━━━━━━━━━━\u001b[0m\u001b[37m\u001b[0m \u001b[1m111s\u001b[0m 1s/step - accuracy: 0.5606 - loss: 0.6854 - val_accuracy: 0.5707 - val_loss: 0.6841\n",
      "Epoch 10/1000\n",
      "\u001b[1m89/89\u001b[0m \u001b[32m━━━━━━━━━━━━━━━━━━━━\u001b[0m\u001b[37m\u001b[0m \u001b[1m112s\u001b[0m 1s/step - accuracy: 0.5625 - loss: 0.6854 - val_accuracy: 0.5707 - val_loss: 0.6844\n",
      "Epoch 10: early stopping\n",
      "Restoring model weights from the end of the best epoch: 5.\n"
     ]
    }
   ],
   "source": [
    "trn = trn.sample(frac=1).reset_index(drop=True)\n",
    "X = pad_sequences(trn['Events_removed'], maxlen=max_sequence_length)\n",
    "X_train, y_train= X, trn['Onsite']\n",
    "\n",
    "print(\"VarianceScaling\")\n",
    "variance = get_model(VarianceScaling(scale=0.1, mode='fan_in', distribution='uniform'))\n",
    "variance = train(x=X_train, y=y_train, model=variance, x_val=X_val, y_val=y_val)\n",
    "models.append(variance)"
   ]
  },
  {
   "cell_type": "code",
   "execution_count": 12,
   "id": "61d615f6",
   "metadata": {},
   "outputs": [
    {
     "name": "stdout",
     "output_type": "stream",
     "text": [
      "GRU\n",
      "Epoch 1/1000\n",
      "\u001b[1m89/89\u001b[0m \u001b[32m━━━━━━━━━━━━━━━━━━━━\u001b[0m\u001b[37m\u001b[0m \u001b[1m1183s\u001b[0m 13s/step - accuracy: 0.5324 - loss: 1.7057 - val_accuracy: 0.5000 - val_loss: 0.7466\n",
      "Epoch 2/1000\n",
      "\u001b[1m89/89\u001b[0m \u001b[32m━━━━━━━━━━━━━━━━━━━━\u001b[0m\u001b[37m\u001b[0m \u001b[1m1217s\u001b[0m 14s/step - accuracy: 0.5125 - loss: 0.8377 - val_accuracy: 0.5278 - val_loss: 0.6929\n",
      "Epoch 3/1000\n",
      "\u001b[1m89/89\u001b[0m \u001b[32m━━━━━━━━━━━━━━━━━━━━\u001b[0m\u001b[37m\u001b[0m \u001b[1m1203s\u001b[0m 14s/step - accuracy: 0.5487 - loss: 0.7262 - val_accuracy: 0.5707 - val_loss: 0.6832\n",
      "Epoch 4/1000\n",
      "\u001b[1m89/89\u001b[0m \u001b[32m━━━━━━━━━━━━━━━━━━━━\u001b[0m\u001b[37m\u001b[0m \u001b[1m1200s\u001b[0m 13s/step - accuracy: 0.5166 - loss: 0.7103 - val_accuracy: 0.5749 - val_loss: 0.6813\n",
      "Epoch 5/1000\n",
      "\u001b[1m89/89\u001b[0m \u001b[32m━━━━━━━━━━━━━━━━━━━━\u001b[0m\u001b[37m\u001b[0m \u001b[1m1211s\u001b[0m 14s/step - accuracy: 0.5543 - loss: 0.6895 - val_accuracy: 0.5717 - val_loss: 0.6843\n",
      "Epoch 6/1000\n",
      "\u001b[1m89/89\u001b[0m \u001b[32m━━━━━━━━━━━━━━━━━━━━\u001b[0m\u001b[37m\u001b[0m \u001b[1m1209s\u001b[0m 14s/step - accuracy: 0.5578 - loss: 0.6883 - val_accuracy: 0.5278 - val_loss: 0.6912\n",
      "Epoch 7/1000\n",
      "\u001b[1m89/89\u001b[0m \u001b[32m━━━━━━━━━━━━━━━━━━━━\u001b[0m\u001b[37m\u001b[0m \u001b[1m1201s\u001b[0m 14s/step - accuracy: 0.5400 - loss: 0.6919 - val_accuracy: 0.5696 - val_loss: 0.6848\n",
      "Epoch 8/1000\n",
      "\u001b[1m89/89\u001b[0m \u001b[32m━━━━━━━━━━━━━━━━━━━━\u001b[0m\u001b[37m\u001b[0m \u001b[1m1213s\u001b[0m 14s/step - accuracy: 0.5340 - loss: 0.6922 - val_accuracy: 0.5696 - val_loss: 0.6823\n",
      "Epoch 9/1000\n",
      "\u001b[1m89/89\u001b[0m \u001b[32m━━━━━━━━━━━━━━━━━━━━\u001b[0m\u001b[37m\u001b[0m \u001b[1m1221s\u001b[0m 14s/step - accuracy: 0.5663 - loss: 0.6824 - val_accuracy: 0.5535 - val_loss: 0.6866\n",
      "Epoch 9: early stopping\n",
      "Restoring model weights from the end of the best epoch: 4.\n"
     ]
    }
   ],
   "source": [
    "trn = trn.sample(frac=1).reset_index(drop=True)\n",
    "X = pad_sequences(trn['Events_removed'], maxlen=max_sequence_length)\n",
    "X_train, y_train= X, trn['Onsite']\n",
    "\n",
    "print(\"GRU\")\n",
    "gru = get_gru_model()\n",
    "gru = train(x=X_train, y=y_train, model=gru, x_val=X_val, y_val=y_val)\n",
    "models.append(gru)"
   ]
  },
  {
   "cell_type": "code",
   "execution_count": 13,
   "id": "f7476be2",
   "metadata": {},
   "outputs": [
    {
     "data": {
      "text/html": [
       "<pre style=\"white-space:pre;overflow-x:auto;line-height:normal;font-family:Menlo,'DejaVu Sans Mono',consolas,'Courier New',monospace\"><span style=\"font-weight: bold\">Model: \"sequential\"</span>\n",
       "</pre>\n"
      ],
      "text/plain": [
       "\u001b[1mModel: \"sequential\"\u001b[0m\n"
      ]
     },
     "metadata": {},
     "output_type": "display_data"
    },
    {
     "data": {
      "text/html": [
       "<pre style=\"white-space:pre;overflow-x:auto;line-height:normal;font-family:Menlo,'DejaVu Sans Mono',consolas,'Courier New',monospace\">┏━━━━━━━━━━━━━━━━━━━━━━━━━━━━━━━━━━━━━━┳━━━━━━━━━━━━━━━━━━━━━━━━━━━━━┳━━━━━━━━━━━━━━━━━┓\n",
       "┃<span style=\"font-weight: bold\"> Layer (type)                         </span>┃<span style=\"font-weight: bold\"> Output Shape                </span>┃<span style=\"font-weight: bold\">         Param # </span>┃\n",
       "┡━━━━━━━━━━━━━━━━━━━━━━━━━━━━━━━━━━━━━━╇━━━━━━━━━━━━━━━━━━━━━━━━━━━━━╇━━━━━━━━━━━━━━━━━┩\n",
       "│ flatten (<span style=\"color: #0087ff; text-decoration-color: #0087ff\">Flatten</span>)                    │ (<span style=\"color: #00d7ff; text-decoration-color: #00d7ff\">None</span>, <span style=\"color: #00af00; text-decoration-color: #00af00\">8000</span>)                │               <span style=\"color: #00af00; text-decoration-color: #00af00\">0</span> │\n",
       "├──────────────────────────────────────┼─────────────────────────────┼─────────────────┤\n",
       "│ dense (<span style=\"color: #0087ff; text-decoration-color: #0087ff\">Dense</span>)                        │ (<span style=\"color: #00d7ff; text-decoration-color: #00d7ff\">None</span>, <span style=\"color: #00af00; text-decoration-color: #00af00\">8192</span>)                │      <span style=\"color: #00af00; text-decoration-color: #00af00\">65,544,192</span> │\n",
       "├──────────────────────────────────────┼─────────────────────────────┼─────────────────┤\n",
       "│ dense_1 (<span style=\"color: #0087ff; text-decoration-color: #0087ff\">Dense</span>)                      │ (<span style=\"color: #00d7ff; text-decoration-color: #00d7ff\">None</span>, <span style=\"color: #00af00; text-decoration-color: #00af00\">4096</span>)                │      <span style=\"color: #00af00; text-decoration-color: #00af00\">33,558,528</span> │\n",
       "├──────────────────────────────────────┼─────────────────────────────┼─────────────────┤\n",
       "│ dense_2 (<span style=\"color: #0087ff; text-decoration-color: #0087ff\">Dense</span>)                      │ (<span style=\"color: #00d7ff; text-decoration-color: #00d7ff\">None</span>, <span style=\"color: #00af00; text-decoration-color: #00af00\">2048</span>)                │       <span style=\"color: #00af00; text-decoration-color: #00af00\">8,390,656</span> │\n",
       "├──────────────────────────────────────┼─────────────────────────────┼─────────────────┤\n",
       "│ dense_3 (<span style=\"color: #0087ff; text-decoration-color: #0087ff\">Dense</span>)                      │ (<span style=\"color: #00d7ff; text-decoration-color: #00d7ff\">None</span>, <span style=\"color: #00af00; text-decoration-color: #00af00\">1024</span>)                │       <span style=\"color: #00af00; text-decoration-color: #00af00\">2,098,176</span> │\n",
       "├──────────────────────────────────────┼─────────────────────────────┼─────────────────┤\n",
       "│ dense_4 (<span style=\"color: #0087ff; text-decoration-color: #0087ff\">Dense</span>)                      │ (<span style=\"color: #00d7ff; text-decoration-color: #00d7ff\">None</span>, <span style=\"color: #00af00; text-decoration-color: #00af00\">512</span>)                 │         <span style=\"color: #00af00; text-decoration-color: #00af00\">524,800</span> │\n",
       "├──────────────────────────────────────┼─────────────────────────────┼─────────────────┤\n",
       "│ dense_5 (<span style=\"color: #0087ff; text-decoration-color: #0087ff\">Dense</span>)                      │ (<span style=\"color: #00d7ff; text-decoration-color: #00d7ff\">None</span>, <span style=\"color: #00af00; text-decoration-color: #00af00\">256</span>)                 │         <span style=\"color: #00af00; text-decoration-color: #00af00\">131,328</span> │\n",
       "├──────────────────────────────────────┼─────────────────────────────┼─────────────────┤\n",
       "│ dense_6 (<span style=\"color: #0087ff; text-decoration-color: #0087ff\">Dense</span>)                      │ (<span style=\"color: #00d7ff; text-decoration-color: #00d7ff\">None</span>, <span style=\"color: #00af00; text-decoration-color: #00af00\">126</span>)                 │          <span style=\"color: #00af00; text-decoration-color: #00af00\">32,382</span> │\n",
       "├──────────────────────────────────────┼─────────────────────────────┼─────────────────┤\n",
       "│ dense_7 (<span style=\"color: #0087ff; text-decoration-color: #0087ff\">Dense</span>)                      │ (<span style=\"color: #00d7ff; text-decoration-color: #00d7ff\">None</span>, <span style=\"color: #00af00; text-decoration-color: #00af00\">64</span>)                  │           <span style=\"color: #00af00; text-decoration-color: #00af00\">8,128</span> │\n",
       "├──────────────────────────────────────┼─────────────────────────────┼─────────────────┤\n",
       "│ dense_8 (<span style=\"color: #0087ff; text-decoration-color: #0087ff\">Dense</span>)                      │ (<span style=\"color: #00d7ff; text-decoration-color: #00d7ff\">None</span>, <span style=\"color: #00af00; text-decoration-color: #00af00\">32</span>)                  │           <span style=\"color: #00af00; text-decoration-color: #00af00\">2,080</span> │\n",
       "├──────────────────────────────────────┼─────────────────────────────┼─────────────────┤\n",
       "│ dropout (<span style=\"color: #0087ff; text-decoration-color: #0087ff\">Dropout</span>)                    │ (<span style=\"color: #00d7ff; text-decoration-color: #00d7ff\">None</span>, <span style=\"color: #00af00; text-decoration-color: #00af00\">32</span>)                  │               <span style=\"color: #00af00; text-decoration-color: #00af00\">0</span> │\n",
       "├──────────────────────────────────────┼─────────────────────────────┼─────────────────┤\n",
       "│ dense_9 (<span style=\"color: #0087ff; text-decoration-color: #0087ff\">Dense</span>)                      │ (<span style=\"color: #00d7ff; text-decoration-color: #00d7ff\">None</span>, <span style=\"color: #00af00; text-decoration-color: #00af00\">1</span>)                   │              <span style=\"color: #00af00; text-decoration-color: #00af00\">33</span> │\n",
       "└──────────────────────────────────────┴─────────────────────────────┴─────────────────┘\n",
       "</pre>\n"
      ],
      "text/plain": [
       "┏━━━━━━━━━━━━━━━━━━━━━━━━━━━━━━━━━━━━━━┳━━━━━━━━━━━━━━━━━━━━━━━━━━━━━┳━━━━━━━━━━━━━━━━━┓\n",
       "┃\u001b[1m \u001b[0m\u001b[1mLayer (type)                        \u001b[0m\u001b[1m \u001b[0m┃\u001b[1m \u001b[0m\u001b[1mOutput Shape               \u001b[0m\u001b[1m \u001b[0m┃\u001b[1m \u001b[0m\u001b[1m        Param #\u001b[0m\u001b[1m \u001b[0m┃\n",
       "┡━━━━━━━━━━━━━━━━━━━━━━━━━━━━━━━━━━━━━━╇━━━━━━━━━━━━━━━━━━━━━━━━━━━━━╇━━━━━━━━━━━━━━━━━┩\n",
       "│ flatten (\u001b[38;5;33mFlatten\u001b[0m)                    │ (\u001b[38;5;45mNone\u001b[0m, \u001b[38;5;34m8000\u001b[0m)                │               \u001b[38;5;34m0\u001b[0m │\n",
       "├──────────────────────────────────────┼─────────────────────────────┼─────────────────┤\n",
       "│ dense (\u001b[38;5;33mDense\u001b[0m)                        │ (\u001b[38;5;45mNone\u001b[0m, \u001b[38;5;34m8192\u001b[0m)                │      \u001b[38;5;34m65,544,192\u001b[0m │\n",
       "├──────────────────────────────────────┼─────────────────────────────┼─────────────────┤\n",
       "│ dense_1 (\u001b[38;5;33mDense\u001b[0m)                      │ (\u001b[38;5;45mNone\u001b[0m, \u001b[38;5;34m4096\u001b[0m)                │      \u001b[38;5;34m33,558,528\u001b[0m │\n",
       "├──────────────────────────────────────┼─────────────────────────────┼─────────────────┤\n",
       "│ dense_2 (\u001b[38;5;33mDense\u001b[0m)                      │ (\u001b[38;5;45mNone\u001b[0m, \u001b[38;5;34m2048\u001b[0m)                │       \u001b[38;5;34m8,390,656\u001b[0m │\n",
       "├──────────────────────────────────────┼─────────────────────────────┼─────────────────┤\n",
       "│ dense_3 (\u001b[38;5;33mDense\u001b[0m)                      │ (\u001b[38;5;45mNone\u001b[0m, \u001b[38;5;34m1024\u001b[0m)                │       \u001b[38;5;34m2,098,176\u001b[0m │\n",
       "├──────────────────────────────────────┼─────────────────────────────┼─────────────────┤\n",
       "│ dense_4 (\u001b[38;5;33mDense\u001b[0m)                      │ (\u001b[38;5;45mNone\u001b[0m, \u001b[38;5;34m512\u001b[0m)                 │         \u001b[38;5;34m524,800\u001b[0m │\n",
       "├──────────────────────────────────────┼─────────────────────────────┼─────────────────┤\n",
       "│ dense_5 (\u001b[38;5;33mDense\u001b[0m)                      │ (\u001b[38;5;45mNone\u001b[0m, \u001b[38;5;34m256\u001b[0m)                 │         \u001b[38;5;34m131,328\u001b[0m │\n",
       "├──────────────────────────────────────┼─────────────────────────────┼─────────────────┤\n",
       "│ dense_6 (\u001b[38;5;33mDense\u001b[0m)                      │ (\u001b[38;5;45mNone\u001b[0m, \u001b[38;5;34m126\u001b[0m)                 │          \u001b[38;5;34m32,382\u001b[0m │\n",
       "├──────────────────────────────────────┼─────────────────────────────┼─────────────────┤\n",
       "│ dense_7 (\u001b[38;5;33mDense\u001b[0m)                      │ (\u001b[38;5;45mNone\u001b[0m, \u001b[38;5;34m64\u001b[0m)                  │           \u001b[38;5;34m8,128\u001b[0m │\n",
       "├──────────────────────────────────────┼─────────────────────────────┼─────────────────┤\n",
       "│ dense_8 (\u001b[38;5;33mDense\u001b[0m)                      │ (\u001b[38;5;45mNone\u001b[0m, \u001b[38;5;34m32\u001b[0m)                  │           \u001b[38;5;34m2,080\u001b[0m │\n",
       "├──────────────────────────────────────┼─────────────────────────────┼─────────────────┤\n",
       "│ dropout (\u001b[38;5;33mDropout\u001b[0m)                    │ (\u001b[38;5;45mNone\u001b[0m, \u001b[38;5;34m32\u001b[0m)                  │               \u001b[38;5;34m0\u001b[0m │\n",
       "├──────────────────────────────────────┼─────────────────────────────┼─────────────────┤\n",
       "│ dense_9 (\u001b[38;5;33mDense\u001b[0m)                      │ (\u001b[38;5;45mNone\u001b[0m, \u001b[38;5;34m1\u001b[0m)                   │              \u001b[38;5;34m33\u001b[0m │\n",
       "└──────────────────────────────────────┴─────────────────────────────┴─────────────────┘\n"
      ]
     },
     "metadata": {},
     "output_type": "display_data"
    },
    {
     "data": {
      "text/html": [
       "<pre style=\"white-space:pre;overflow-x:auto;line-height:normal;font-family:Menlo,'DejaVu Sans Mono',consolas,'Courier New',monospace\"><span style=\"font-weight: bold\"> Total params: </span><span style=\"color: #00af00; text-decoration-color: #00af00\">330,870,911</span> (1.23 GB)\n",
       "</pre>\n"
      ],
      "text/plain": [
       "\u001b[1m Total params: \u001b[0m\u001b[38;5;34m330,870,911\u001b[0m (1.23 GB)\n"
      ]
     },
     "metadata": {},
     "output_type": "display_data"
    },
    {
     "data": {
      "text/html": [
       "<pre style=\"white-space:pre;overflow-x:auto;line-height:normal;font-family:Menlo,'DejaVu Sans Mono',consolas,'Courier New',monospace\"><span style=\"font-weight: bold\"> Trainable params: </span><span style=\"color: #00af00; text-decoration-color: #00af00\">110,290,303</span> (420.72 MB)\n",
       "</pre>\n"
      ],
      "text/plain": [
       "\u001b[1m Trainable params: \u001b[0m\u001b[38;5;34m110,290,303\u001b[0m (420.72 MB)\n"
      ]
     },
     "metadata": {},
     "output_type": "display_data"
    },
    {
     "data": {
      "text/html": [
       "<pre style=\"white-space:pre;overflow-x:auto;line-height:normal;font-family:Menlo,'DejaVu Sans Mono',consolas,'Courier New',monospace\"><span style=\"font-weight: bold\"> Non-trainable params: </span><span style=\"color: #00af00; text-decoration-color: #00af00\">0</span> (0.00 B)\n",
       "</pre>\n"
      ],
      "text/plain": [
       "\u001b[1m Non-trainable params: \u001b[0m\u001b[38;5;34m0\u001b[0m (0.00 B)\n"
      ]
     },
     "metadata": {},
     "output_type": "display_data"
    },
    {
     "data": {
      "text/html": [
       "<pre style=\"white-space:pre;overflow-x:auto;line-height:normal;font-family:Menlo,'DejaVu Sans Mono',consolas,'Courier New',monospace\"><span style=\"font-weight: bold\"> Optimizer params: </span><span style=\"color: #00af00; text-decoration-color: #00af00\">220,580,608</span> (841.45 MB)\n",
       "</pre>\n"
      ],
      "text/plain": [
       "\u001b[1m Optimizer params: \u001b[0m\u001b[38;5;34m220,580,608\u001b[0m (841.45 MB)\n"
      ]
     },
     "metadata": {},
     "output_type": "display_data"
    }
   ],
   "source": [
    "golort.summary()"
   ]
  },
  {
   "cell_type": "code",
   "execution_count": 14,
   "id": "647cc164",
   "metadata": {},
   "outputs": [
    {
     "data": {
      "text/html": [
       "<pre style=\"white-space:pre;overflow-x:auto;line-height:normal;font-family:Menlo,'DejaVu Sans Mono',consolas,'Courier New',monospace\"><span style=\"font-weight: bold\">Model: \"sequential_4\"</span>\n",
       "</pre>\n"
      ],
      "text/plain": [
       "\u001b[1mModel: \"sequential_4\"\u001b[0m\n"
      ]
     },
     "metadata": {},
     "output_type": "display_data"
    },
    {
     "data": {
      "text/html": [
       "<pre style=\"white-space:pre;overflow-x:auto;line-height:normal;font-family:Menlo,'DejaVu Sans Mono',consolas,'Courier New',monospace\">┏━━━━━━━━━━━━━━━━━━━━━━━━━━━━━━━━━━━━━━┳━━━━━━━━━━━━━━━━━━━━━━━━━━━━━┳━━━━━━━━━━━━━━━━━┓\n",
       "┃<span style=\"font-weight: bold\"> Layer (type)                         </span>┃<span style=\"font-weight: bold\"> Output Shape                </span>┃<span style=\"font-weight: bold\">         Param # </span>┃\n",
       "┡━━━━━━━━━━━━━━━━━━━━━━━━━━━━━━━━━━━━━━╇━━━━━━━━━━━━━━━━━━━━━━━━━━━━━╇━━━━━━━━━━━━━━━━━┩\n",
       "│ gru (<span style=\"color: #0087ff; text-decoration-color: #0087ff\">GRU</span>)                            │ (<span style=\"color: #00d7ff; text-decoration-color: #00d7ff\">None</span>, <span style=\"color: #00af00; text-decoration-color: #00af00\">8000</span>, <span style=\"color: #00af00; text-decoration-color: #00af00\">128</span>)           │          <span style=\"color: #00af00; text-decoration-color: #00af00\">50,304</span> │\n",
       "├──────────────────────────────────────┼─────────────────────────────┼─────────────────┤\n",
       "│ dropout_4 (<span style=\"color: #0087ff; text-decoration-color: #0087ff\">Dropout</span>)                  │ (<span style=\"color: #00d7ff; text-decoration-color: #00d7ff\">None</span>, <span style=\"color: #00af00; text-decoration-color: #00af00\">8000</span>, <span style=\"color: #00af00; text-decoration-color: #00af00\">128</span>)           │               <span style=\"color: #00af00; text-decoration-color: #00af00\">0</span> │\n",
       "├──────────────────────────────────────┼─────────────────────────────┼─────────────────┤\n",
       "│ gru_1 (<span style=\"color: #0087ff; text-decoration-color: #0087ff\">GRU</span>)                          │ (<span style=\"color: #00d7ff; text-decoration-color: #00d7ff\">None</span>, <span style=\"color: #00af00; text-decoration-color: #00af00\">64</span>)                  │          <span style=\"color: #00af00; text-decoration-color: #00af00\">37,248</span> │\n",
       "├──────────────────────────────────────┼─────────────────────────────┼─────────────────┤\n",
       "│ dropout_5 (<span style=\"color: #0087ff; text-decoration-color: #0087ff\">Dropout</span>)                  │ (<span style=\"color: #00d7ff; text-decoration-color: #00d7ff\">None</span>, <span style=\"color: #00af00; text-decoration-color: #00af00\">64</span>)                  │               <span style=\"color: #00af00; text-decoration-color: #00af00\">0</span> │\n",
       "├──────────────────────────────────────┼─────────────────────────────┼─────────────────┤\n",
       "│ dense_40 (<span style=\"color: #0087ff; text-decoration-color: #0087ff\">Dense</span>)                     │ (<span style=\"color: #00d7ff; text-decoration-color: #00d7ff\">None</span>, <span style=\"color: #00af00; text-decoration-color: #00af00\">1</span>)                   │              <span style=\"color: #00af00; text-decoration-color: #00af00\">65</span> │\n",
       "└──────────────────────────────────────┴─────────────────────────────┴─────────────────┘\n",
       "</pre>\n"
      ],
      "text/plain": [
       "┏━━━━━━━━━━━━━━━━━━━━━━━━━━━━━━━━━━━━━━┳━━━━━━━━━━━━━━━━━━━━━━━━━━━━━┳━━━━━━━━━━━━━━━━━┓\n",
       "┃\u001b[1m \u001b[0m\u001b[1mLayer (type)                        \u001b[0m\u001b[1m \u001b[0m┃\u001b[1m \u001b[0m\u001b[1mOutput Shape               \u001b[0m\u001b[1m \u001b[0m┃\u001b[1m \u001b[0m\u001b[1m        Param #\u001b[0m\u001b[1m \u001b[0m┃\n",
       "┡━━━━━━━━━━━━━━━━━━━━━━━━━━━━━━━━━━━━━━╇━━━━━━━━━━━━━━━━━━━━━━━━━━━━━╇━━━━━━━━━━━━━━━━━┩\n",
       "│ gru (\u001b[38;5;33mGRU\u001b[0m)                            │ (\u001b[38;5;45mNone\u001b[0m, \u001b[38;5;34m8000\u001b[0m, \u001b[38;5;34m128\u001b[0m)           │          \u001b[38;5;34m50,304\u001b[0m │\n",
       "├──────────────────────────────────────┼─────────────────────────────┼─────────────────┤\n",
       "│ dropout_4 (\u001b[38;5;33mDropout\u001b[0m)                  │ (\u001b[38;5;45mNone\u001b[0m, \u001b[38;5;34m8000\u001b[0m, \u001b[38;5;34m128\u001b[0m)           │               \u001b[38;5;34m0\u001b[0m │\n",
       "├──────────────────────────────────────┼─────────────────────────────┼─────────────────┤\n",
       "│ gru_1 (\u001b[38;5;33mGRU\u001b[0m)                          │ (\u001b[38;5;45mNone\u001b[0m, \u001b[38;5;34m64\u001b[0m)                  │          \u001b[38;5;34m37,248\u001b[0m │\n",
       "├──────────────────────────────────────┼─────────────────────────────┼─────────────────┤\n",
       "│ dropout_5 (\u001b[38;5;33mDropout\u001b[0m)                  │ (\u001b[38;5;45mNone\u001b[0m, \u001b[38;5;34m64\u001b[0m)                  │               \u001b[38;5;34m0\u001b[0m │\n",
       "├──────────────────────────────────────┼─────────────────────────────┼─────────────────┤\n",
       "│ dense_40 (\u001b[38;5;33mDense\u001b[0m)                     │ (\u001b[38;5;45mNone\u001b[0m, \u001b[38;5;34m1\u001b[0m)                   │              \u001b[38;5;34m65\u001b[0m │\n",
       "└──────────────────────────────────────┴─────────────────────────────┴─────────────────┘\n"
      ]
     },
     "metadata": {},
     "output_type": "display_data"
    },
    {
     "data": {
      "text/html": [
       "<pre style=\"white-space:pre;overflow-x:auto;line-height:normal;font-family:Menlo,'DejaVu Sans Mono',consolas,'Courier New',monospace\"><span style=\"font-weight: bold\"> Total params: </span><span style=\"color: #00af00; text-decoration-color: #00af00\">262,853</span> (1.00 MB)\n",
       "</pre>\n"
      ],
      "text/plain": [
       "\u001b[1m Total params: \u001b[0m\u001b[38;5;34m262,853\u001b[0m (1.00 MB)\n"
      ]
     },
     "metadata": {},
     "output_type": "display_data"
    },
    {
     "data": {
      "text/html": [
       "<pre style=\"white-space:pre;overflow-x:auto;line-height:normal;font-family:Menlo,'DejaVu Sans Mono',consolas,'Courier New',monospace\"><span style=\"font-weight: bold\"> Trainable params: </span><span style=\"color: #00af00; text-decoration-color: #00af00\">87,617</span> (342.25 KB)\n",
       "</pre>\n"
      ],
      "text/plain": [
       "\u001b[1m Trainable params: \u001b[0m\u001b[38;5;34m87,617\u001b[0m (342.25 KB)\n"
      ]
     },
     "metadata": {},
     "output_type": "display_data"
    },
    {
     "data": {
      "text/html": [
       "<pre style=\"white-space:pre;overflow-x:auto;line-height:normal;font-family:Menlo,'DejaVu Sans Mono',consolas,'Courier New',monospace\"><span style=\"font-weight: bold\"> Non-trainable params: </span><span style=\"color: #00af00; text-decoration-color: #00af00\">0</span> (0.00 B)\n",
       "</pre>\n"
      ],
      "text/plain": [
       "\u001b[1m Non-trainable params: \u001b[0m\u001b[38;5;34m0\u001b[0m (0.00 B)\n"
      ]
     },
     "metadata": {},
     "output_type": "display_data"
    },
    {
     "data": {
      "text/html": [
       "<pre style=\"white-space:pre;overflow-x:auto;line-height:normal;font-family:Menlo,'DejaVu Sans Mono',consolas,'Courier New',monospace\"><span style=\"font-weight: bold\"> Optimizer params: </span><span style=\"color: #00af00; text-decoration-color: #00af00\">175,236</span> (684.52 KB)\n",
       "</pre>\n"
      ],
      "text/plain": [
       "\u001b[1m Optimizer params: \u001b[0m\u001b[38;5;34m175,236\u001b[0m (684.52 KB)\n"
      ]
     },
     "metadata": {},
     "output_type": "display_data"
    }
   ],
   "source": [
    "gru.summary()"
   ]
  },
  {
   "cell_type": "markdown",
   "id": "db1cdec6",
   "metadata": {},
   "source": [
    "### Model Validation"
   ]
  },
  {
   "cell_type": "code",
   "execution_count": 15,
   "id": "2a2d6dca",
   "metadata": {},
   "outputs": [
    {
     "name": "stdout",
     "output_type": "stream",
     "text": [
      "Validation\n",
      "\u001b[1m30/30\u001b[0m \u001b[32m━━━━━━━━━━━━━━━━━━━━\u001b[0m\u001b[37m\u001b[0m \u001b[1m4s\u001b[0m 73ms/step\n",
      "\u001b[1m30/30\u001b[0m \u001b[32m━━━━━━━━━━━━━━━━━━━━\u001b[0m\u001b[37m\u001b[0m \u001b[1m4s\u001b[0m 81ms/step\n",
      "\u001b[1m30/30\u001b[0m \u001b[32m━━━━━━━━━━━━━━━━━━━━\u001b[0m\u001b[37m\u001b[0m \u001b[1m4s\u001b[0m 77ms/step\n",
      "\u001b[1m30/30\u001b[0m \u001b[32m━━━━━━━━━━━━━━━━━━━━\u001b[0m\u001b[37m\u001b[0m \u001b[1m4s\u001b[0m 106ms/step\n",
      "\u001b[1m30/30\u001b[0m \u001b[32m━━━━━━━━━━━━━━━━━━━━\u001b[0m\u001b[37m\u001b[0m \u001b[1m41s\u001b[0m 1s/step\n",
      "Ensemble Accuracy: 0.5913978494623656\n",
      "Ensemble Uncertainty:  0.9004282655246253\n",
      "Standard Deviation:  0.010415124\n",
      "Probability:  0.548975566023167\n"
     ]
    }
   ],
   "source": [
    "print('Validation')\n",
    "probabilities, sd_list = test(X_val,y_val,models)\n",
    "print(\"Standard Deviation: \", np.mean(sd_list))\n",
    "print(\"Probability: \", np.mean(probabilities))"
   ]
  },
  {
   "cell_type": "code",
   "execution_count": 21,
   "id": "c8762719",
   "metadata": {},
   "outputs": [
    {
     "data": {
      "image/png": "[encoded data removed]",
      "text/plain": [
       "<Figure size 432x288 with 1 Axes>"
      ]
     },
     "metadata": {
      "needs_background": "light"
     },
     "output_type": "display_data"
    }
   ],
   "source": [
    "# Separate data points based on their true labels\n",
    "points_label_0 = [(length, prob) for length, prob, label in zip(range(len(probabilities)), probabilities, y_val) if label == 0]\n",
    "points_label_1 = [(length, prob) for length, prob, label in zip(range(len(probabilities)), probabilities, y_val) if label == 1]\n",
    "\n",
    "# Extract x and y values for the scatter plot\n",
    "x_label_0, y_label_0 = zip(*points_label_0)\n",
    "x_label_1, y_label_1 = zip(*points_label_1)\n",
    "\n",
    "plt.title('Scatter Plot of Probabilities')\n",
    "plt.scatter(x_label_0, y_label_0, c='blue', label='Label 0')\n",
    "plt.scatter(x_label_1, y_label_1, c='red', label='Label 1')\n",
    "plt.xlabel('Length')\n",
    "plt.ylabel('Probabilities')\n",
    "plt.legend()\n",
    "plt.show()"
   ]
  },
  {
   "cell_type": "code",
   "execution_count": 22,
   "id": "8eecb5d4",
   "metadata": {},
   "outputs": [
    {
     "data": {
      "image/png": "[encoded data removed]",
      "text/plain": [
       "<Figure size 432x288 with 1 Axes>"
      ]
     },
     "metadata": {
      "needs_background": "light"
     },
     "output_type": "display_data"
    }
   ],
   "source": [
    "sns.kdeplot(probabilities, fill=True)\n",
    "plt.title('Probability Density Function (PDF) of Probabilities')\n",
    "plt.xlabel('Probabilities')\n",
    "plt.ylabel('Density')\n",
    "plt.show()"
   ]
  },
  {
   "cell_type": "code",
   "execution_count": 23,
   "id": "c24a5ddf",
   "metadata": {},
   "outputs": [],
   "source": [
    "correct_prediction = 0 \n",
    "uncertain_prediction = 0\n",
    "standard_deviation =  np.mean(sd_list) / 2\n",
    "total_data_points = len(y_val)\n",
    "\n",
    "for i in range(total_data_points):\n",
    "    prob = probabilities[i]\n",
    "    \n",
    "    # Define lower and upper bounds based on standard deviation\n",
    "    lb = prob - standard_deviation\n",
    "    ub = prob + standard_deviation\n",
    "    \n",
    "    # Classify predictions\n",
    "    c = 1 if lb > .55 else 0 if ub < .55 else 0.5\n",
    "    \n",
    "    # Count uncertain predictions\n",
    "    if c == 0.5:\n",
    "        uncertain_prediction += 1\n",
    "        continue\n",
    "    \n",
    "    # Count correct predictions\n",
    "    if c == y_test.iloc[i]:\n",
    "        correct_prediction += 1"
   ]
  },
  {
   "cell_type": "code",
   "execution_count": 27,
   "id": "569f9dc3",
   "metadata": {},
   "outputs": [
    {
     "name": "stdout",
     "output_type": "stream",
     "text": [
      "Validation SD Accuracy:  0.5\n",
      "Validation SD Uncertainity 0.5767195767195767\n"
     ]
    }
   ],
   "source": [
    "print(\"Validation SD Accuracy: \", correct_prediction/(total_data_points - uncertain_prediction))\n",
    "print(\"Validation SD Uncertainity\", uncertain_prediction/total_data_points)"
   ]
  },
  {
   "cell_type": "markdown",
   "id": "7faa1cb9",
   "metadata": {},
   "source": [
    "### Model Testing"
   ]
  },
  {
   "cell_type": "code",
   "execution_count": 28,
   "id": "68d639e5",
   "metadata": {},
   "outputs": [
    {
     "name": "stdout",
     "output_type": "stream",
     "text": [
      "Testing\n",
      "\u001b[1m30/30\u001b[0m \u001b[32m━━━━━━━━━━━━━━━━━━━━\u001b[0m\u001b[37m\u001b[0m \u001b[1m2s\u001b[0m 68ms/step\n",
      "\u001b[1m30/30\u001b[0m \u001b[32m━━━━━━━━━━━━━━━━━━━━\u001b[0m\u001b[37m\u001b[0m \u001b[1m2s\u001b[0m 69ms/step\n",
      "\u001b[1m30/30\u001b[0m \u001b[32m━━━━━━━━━━━━━━━━━━━━\u001b[0m\u001b[37m\u001b[0m \u001b[1m2s\u001b[0m 78ms/step\n",
      "\u001b[1m30/30\u001b[0m \u001b[32m━━━━━━━━━━━━━━━━━━━━\u001b[0m\u001b[37m\u001b[0m \u001b[1m3s\u001b[0m 109ms/step\n",
      "\u001b[1m30/30\u001b[0m \u001b[32m━━━━━━━━━━━━━━━━━━━━\u001b[0m\u001b[37m\u001b[0m \u001b[1m40s\u001b[0m 1s/step\n",
      "Ensemble Accuracy: 0.5643564356435643\n",
      "Ensemble Uncertainty:  0.8931216931216931\n",
      "Standard Deviation:  0.01046575\n",
      "Probability:  0.5484600804659424\n"
     ]
    }
   ],
   "source": [
    "print('Testing')\n",
    "probabilities, sd_list = test(X_test,y_test,models)\n",
    "print(\"Standard Deviation: \", np.mean(sd_list))\n",
    "print(\"Probability: \", np.mean(probabilities))"
   ]
  },
  {
   "cell_type": "code",
   "execution_count": 29,
   "id": "caef9168",
   "metadata": {},
   "outputs": [
    {
     "data": {
      "image/png": "[encoded data removed]",
      "text/plain": [
       "<Figure size 432x288 with 1 Axes>"
      ]
     },
     "metadata": {
      "needs_background": "light"
     },
     "output_type": "display_data"
    }
   ],
   "source": [
    "# Separate data points based on their true labels\n",
    "points_label_0 = [(length, prob) for length, prob, label in zip(range(len(probabilities)), probabilities, y_test) if label == 0]\n",
    "points_label_1 = [(length, prob) for length, prob, label in zip(range(len(probabilities)), probabilities, y_test) if label == 1]\n",
    "\n",
    "# Extract x and y values for the scatter plot\n",
    "x_label_0, y_label_0 = zip(*points_label_0)\n",
    "x_label_1, y_label_1 = zip(*points_label_1)\n",
    "\n",
    "plt.axhline(y=0.54, color='black', linestyle='--', linewidth=3)\n",
    "plt.axhline(y=0.56, color='black', linestyle='--', linewidth=3)\n",
    "plt.scatter(x_label_0, y_label_0, c='blue', label='Label 0')\n",
    "plt.scatter(x_label_1, y_label_1, c='red', label='Label 1')\n",
    "plt.title('Scatter Plot of Probabilities')\n",
    "plt.xlabel('Length')\n",
    "plt.ylabel('Probabilities')\n",
    "plt.legend()\n",
    "plt.show()"
   ]
  },
  {
   "cell_type": "code",
   "execution_count": 30,
   "id": "4d80bc7e",
   "metadata": {},
   "outputs": [
    {
     "data": {
      "image/png": "[encoded data removed]",
      "text/plain": [
       "<Figure size 432x288 with 1 Axes>"
      ]
     },
     "metadata": {
      "needs_background": "light"
     },
     "output_type": "display_data"
    }
   ],
   "source": [
    "sns.kdeplot(probabilities, fill=True)\n",
    "plt.title('Probability Density Function (PDF) of Probabilities')\n",
    "plt.xlabel('Probabilities')\n",
    "plt.ylabel('Density')\n",
    "plt.show()"
   ]
  },
  {
   "cell_type": "code",
   "execution_count": 32,
   "id": "f34bfa24",
   "metadata": {},
   "outputs": [],
   "source": [
    "correct_prediction = 0 \n",
    "uncertain_prediction = 0\n",
    "standard_deviation = 0.0104/ 2\n",
    "total_data_points = len(y_test)\n",
    "\n",
    "for i in range(total_data_points):\n",
    "    prob = probabilities[i]\n",
    "    \n",
    "    # Define lower and upper bounds based on standard deviation\n",
    "    lb = prob - standard_deviation\n",
    "    ub = prob + standard_deviation\n",
    "    \n",
    "    # Classify predictions\n",
    "    c = 1 if lb > 0.55 else 0 if ub < 0.55 else 0.5\n",
    "    \n",
    "    # Count uncertain predictions\n",
    "    if c == 0.5:\n",
    "        uncertain_prediction += 1\n",
    "        continue\n",
    "    \n",
    "    # Count correct predictions\n",
    "    if c == y_test.iloc[i]:\n",
    "        correct_prediction += 1"
   ]
  },
  {
   "cell_type": "code",
   "execution_count": 33,
   "id": "05c12225",
   "metadata": {},
   "outputs": [
    {
     "name": "stdout",
     "output_type": "stream",
     "text": [
      "Validation SD Accuracy:  0.525\n",
      "Validation SD Uncertainity 0.5767195767195767\n"
     ]
    }
   ],
   "source": [
    "print(\"Validation SD Accuracy: \", correct_prediction/(total_data_points - uncertain_prediction))\n",
    "print(\"Validation SD Uncertainity\", uncertain_prediction/total_data_points)"
   ]
  },
  {
   "cell_type": "code",
   "execution_count": null,
   "id": "56789450",
   "metadata": {},
   "outputs": [],
   "source": []
  },
  {
   "cell_type": "code",
   "execution_count": null,
   "id": "0f7e9a2f",
   "metadata": {},
   "outputs": [],
   "source": []
  },
  {
   "cell_type": "code",
   "execution_count": null,
   "id": "b5c0b0be",
   "metadata": {},
   "outputs": [],
   "source": []
  },
  {
   "cell_type": "code",
   "execution_count": null,
   "id": "3129e4ca",
   "metadata": {},
   "outputs": [],
   "source": []
  }
 ],
 "metadata": {
  "kernelspec": {
   "display_name": "Python 3 (ipykernel)",
   "language": "python",
   "name": "python3"
  },
  "language_info": {
   "codemirror_mode": {
    "name": "ipython",
    "version": 3
   },
   "file_extension": ".py",
   "mimetype": "text/x-python",
   "name": "python",
   "nbconvert_exporter": "python",
   "pygments_lexer": "ipython3",
   "version": "3.9.7"
  }
 },
 "nbformat": 4,
 "nbformat_minor": 5
}
